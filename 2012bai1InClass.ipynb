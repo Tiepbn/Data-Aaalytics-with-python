{
  "nbformat": 4,
  "nbformat_minor": 0,
  "metadata": {
    "colab": {
      "provenance": [],
      "authorship_tag": "ABX9TyOh7v6+4LrA+qcQtUUoD5UW",
      "include_colab_link": true
    },
    "kernelspec": {
      "name": "python3",
      "display_name": "Python 3"
    },
    "language_info": {
      "name": "python"
    }
  },
  "cells": [
    {
      "cell_type": "markdown",
      "metadata": {
        "id": "view-in-github",
        "colab_type": "text"
      },
      "source": [
        "<a href=\"https://colab.research.google.com/github/Tiepbn/Data-Aaalytics-with-python/blob/inClass/2012bai1InClass.ipynb\" target=\"_parent\"><img src=\"https://colab.research.google.com/assets/colab-badge.svg\" alt=\"Open In Colab\"/></a>"
      ]
    },
    {
      "cell_type": "markdown",
      "source": [
        "#Bài Tập\n",
        "---\n",
        "Viết chương trình người dùng nhập vào 2 mảng 2 chiều có cùng kích thước (với điều kiện không có số 0) Thực hiện các phép toán cộng, trừ, nhân, chia các phần tử của 2 mảng đó.\n",
        "\n",
        "**1**.Tính tổng các phần tử theo cột của mảng cuối cùng.\n",
        "\n",
        "**2**.Tính tích các phần tử theo hàng của mảng cuối cùng."
      ],
      "metadata": {
        "id": "i3tamRjWmrrK"
      }
    },
    {
      "cell_type": "code",
      "source": [
        "a = input().split()\n",
        "a = [float(i) for i in a]\n",
        "print(type(a[0]))"
      ],
      "metadata": {
        "colab": {
          "base_uri": "https://localhost:8080/"
        },
        "id": "gxdb_yJxkY67",
        "outputId": "9d8d7ae7-7d1e-44c9-9863-f225d9dfa57e"
      },
      "execution_count": 6,
      "outputs": [
        {
          "output_type": "stream",
          "name": "stdout",
          "text": [
            "1 2 3 4\n",
            "<class 'float'>\n"
          ]
        }
      ]
    },
    {
      "cell_type": "code",
      "source": [
        "from re import sub\n",
        "import numpy as np\n",
        "\n",
        "def nhap_mang_2_chieu(row,col):\n",
        "  array = []\n",
        "  for i in range(row):\n",
        "    row_i = []\n",
        "    for j in range(col):\n",
        "      element = float(input(f\"Nhập phần tử ở hàng {i+1}, cột {j+1}\"))\n",
        "      row_i.append(element)\n",
        "    array.append(row_i)\n",
        "  return array\n",
        "\n",
        "def addTwoArray(array1, array2):\n",
        "  result_array = []\n",
        "  for i in range(len(array1)):\n",
        "    row_i = []\n",
        "    for j in range(len(array1[0])):\n",
        "      row_i.append(array1[i][j] + array2[i][j])\n",
        "    result_array.append(row[i])\n",
        "  return result_array\n",
        "\n",
        "def subTwoArray(array1, array2):\n",
        "  result_array = []\n",
        "  for i in range(len(array1)):\n",
        "    row_i = []\n",
        "    for j in range(len(array1[0])):\n",
        "      row_i.append(array1[i][j] - array2[i][j])\n",
        "    result_array.append(row[i])\n",
        "  return result_array\n",
        "\n",
        "row = int(input(\"nhập số hàng: \"))\n",
        "col = int(input(\"nhập số cột: \"))\n",
        "\n",
        "array1 = nhap_mang_2_chieu(row, col)\n",
        "array2 = nhap_mang_2_chieu(row,col)\n",
        "\n",
        "print(addTwoArray(array1,array2))\n",
        "print(subTwoArray(array1,array2))\n",
        "\n",
        "nr1 = np.array(array1)\n",
        "nr2 = np.array(array2)\n"
      ],
      "metadata": {
        "id": "5q6G6uuLpT_C"
      },
      "execution_count": null,
      "outputs": []
    }
  ]
}