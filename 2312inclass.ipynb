{
  "nbformat": 4,
  "nbformat_minor": 0,
  "metadata": {
    "colab": {
      "provenance": [],
      "authorship_tag": "ABX9TyO403wWqZo3vY8sKtd0XXnv",
      "include_colab_link": true
    },
    "kernelspec": {
      "name": "python3",
      "display_name": "Python 3"
    },
    "language_info": {
      "name": "python"
    }
  },
  "cells": [
    {
      "cell_type": "markdown",
      "metadata": {
        "id": "view-in-github",
        "colab_type": "text"
      },
      "source": [
        "<a href=\"https://colab.research.google.com/github/Tiepbn/Data-Aaalytics-with-python/blob/inClass/2312inclass.ipynb\" target=\"_parent\"><img src=\"https://colab.research.google.com/assets/colab-badge.svg\" alt=\"Open In Colab\"/></a>"
      ]
    },
    {
      "cell_type": "code",
      "source": [
        "import numpy as np"
      ],
      "metadata": {
        "id": "b_YopbbReFbd"
      },
      "execution_count": 4,
      "outputs": []
    },
    {
      "cell_type": "code",
      "execution_count": 5,
      "metadata": {
        "id": "klgZY6S0aHjo"
      },
      "outputs": [],
      "source": [
        "a = np.array([1,2,3,4,5,6,7])"
      ]
    },
    {
      "cell_type": "code",
      "source": [
        "np.split(a,[2,4])"
      ],
      "metadata": {
        "colab": {
          "base_uri": "https://localhost:8080/"
        },
        "id": "1QY4sO1Ud6fm",
        "outputId": "28359431-1bb8-4303-c664-455085cd9569"
      },
      "execution_count": 6,
      "outputs": [
        {
          "output_type": "execute_result",
          "data": {
            "text/plain": [
              "[array([1, 2]), array([3, 4]), array([5, 6, 7])]"
            ]
          },
          "metadata": {},
          "execution_count": 6
        }
      ]
    },
    {
      "cell_type": "code",
      "source": [
        "def myadd(x,y):\n",
        "  return x+y\n",
        "\n",
        "a = np.frompyfunc(myadd,2,1)\n",
        "print(a([1,2],[3,4]))"
      ],
      "metadata": {
        "colab": {
          "base_uri": "https://localhost:8080/"
        },
        "id": "386MyivFeBuK",
        "outputId": "086bec5d-f758-4197-ddb2-79d1570d9fa9"
      },
      "execution_count": 8,
      "outputs": [
        {
          "output_type": "stream",
          "name": "stdout",
          "text": [
            "[4 6]\n"
          ]
        }
      ]
    },
    {
      "cell_type": "code",
      "source": [
        "print(type(a))"
      ],
      "metadata": {
        "id": "YB6JIJ5Hmv2p",
        "outputId": "751133fe-acdd-411f-dd68-8bf70925f93a",
        "colab": {
          "base_uri": "https://localhost:8080/"
        }
      },
      "execution_count": 9,
      "outputs": [
        {
          "output_type": "stream",
          "name": "stdout",
          "text": [
            "<class 'numpy.ufunc'>\n"
          ]
        }
      ]
    },
    {
      "cell_type": "code",
      "source": [
        "#bai tap tinh dien tich tam giac\n",
        "import math\n",
        "def area(a,b,c):\n",
        "  p = (a+b+c)/2\n",
        "  return math.sqrt(p*(p-a)*(p-b)*(p-c))\n",
        "\n",
        "S_cal = np.frompyfunc(area,3,1)\n",
        "\n",
        "print(S_cal([3,2,5],[4,1,3],[5,4,6]))"
      ],
      "metadata": {
        "id": "qu90qtKcm80I",
        "outputId": "1174ce2b-8ae0-4179-bd6e-e201d3c4220d",
        "colab": {
          "base_uri": "https://localhost:8080/"
        }
      },
      "execution_count": 17,
      "outputs": [
        {
          "output_type": "stream",
          "name": "stdout",
          "text": [
            "[6.0 1.984313483298443 7.483314773547883]\n"
          ]
        }
      ]
    },
    {
      "cell_type": "code",
      "source": [],
      "metadata": {
        "id": "4mLhG20ynv7m",
        "outputId": "de3b7eaa-73fe-452c-ae43-994bc3f2042d",
        "colab": {
          "base_uri": "https://localhost:8080/"
        }
      },
      "execution_count": 20,
      "outputs": [
        {
          "output_type": "stream",
          "name": "stdout",
          "text": [
            "6.0\n"
          ]
        }
      ]
    },
    {
      "cell_type": "code",
      "source": [],
      "metadata": {
        "id": "gXHT2LQLrX9Z"
      },
      "execution_count": null,
      "outputs": []
    }
  ]
}