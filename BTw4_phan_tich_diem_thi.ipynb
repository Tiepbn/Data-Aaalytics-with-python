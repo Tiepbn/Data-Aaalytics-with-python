{
  "nbformat": 4,
  "nbformat_minor": 0,
  "metadata": {
    "colab": {
      "provenance": [],
      "authorship_tag": "ABX9TyNaXIYY9zpbxqB6AVqBMCYj",
      "include_colab_link": true
    },
    "kernelspec": {
      "name": "python3",
      "display_name": "Python 3"
    },
    "language_info": {
      "name": "python"
    }
  },
  "cells": [
    {
      "cell_type": "markdown",
      "metadata": {
        "id": "view-in-github",
        "colab_type": "text"
      },
      "source": [
        "<a href=\"https://colab.research.google.com/github/Tiepbn/Data-Aaalytics-with-python/blob/main/BTw4_phan_tich_diem_thi.ipynb\" target=\"_parent\"><img src=\"https://colab.research.google.com/assets/colab-badge.svg\" alt=\"Open In Colab\"/></a>"
      ]
    },
    {
      "cell_type": "code",
      "execution_count": 2,
      "metadata": {
        "id": "1NdXzALtfjya"
      },
      "outputs": [],
      "source": [
        "## Gọi ra những thư viện cần thiết\n",
        "import numpy as np\n",
        "import pandas as pd"
      ]
    },
    {
      "cell_type": "code",
      "source": [
        "dataset = pd.read_excel(\"/content/Week4-data_06.xlsx\")\n",
        "print(dataset)\n",
        "print(dataset.head())"
      ],
      "metadata": {
        "colab": {
          "base_uri": "https://localhost:8080/"
        },
        "id": "NziyKSZzhQwd",
        "outputId": "33123047-d4e2-4eeb-9763-6b2d03565e78"
      },
      "execution_count": 3,
      "outputs": [
        {
          "output_type": "stream",
          "name": "stdout",
          "text": [
            "                     Tên  Mã số               Trường cấp 2  Nguyện vọng 1  \\\n",
            "0           QUÁCH KIM HÀ  60132             THCS Phú Cường              6   \n",
            "1       PHẠM TRÚC PHƯƠNG  60421        THCS Trần Đại Nghĩa              6   \n",
            "2         TRẦN KHẢ DOANH  60075    THCS-THPT Nguyễn Khuyến              6   \n",
            "3      NGUYỄN MAI PHƯƠNG  60417        THCS Trần Đại Nghĩa              6   \n",
            "4          TRẦN MINH THY  60558  THCS Nguyễn Thị Minh Khai              6   \n",
            "..                   ...    ...                        ...            ...   \n",
            "636        TRẦN NHẬT ANH  60032       THCS Nguyễn Văn Tiết              6   \n",
            "637  DOÃN THỊ PHƯƠNG ANH  60017            THCS Bình Chiểu              6   \n",
            "638       CÙ THỊ GIA HÂN  60151     THCS Nguyễn Trung Trực              6   \n",
            "639      NGUYỄN TƯỜNG VY  60622        THCS Trịnh Hoài Đức              6   \n",
            "640         LƯU QUANG ĐÔ  60108        THCS Trịnh Hoài Đức              6   \n",
            "\n",
            "     Nguyện vọng 2  Điểm cộng   Văn   Anh  Toán   Tổng  Xếp hạng  \n",
            "0              2.0        3.0  9.00   8.9  8.75  29.65         1  \n",
            "1              7.0        2.0  8.75   9.6  9.25  29.60         2  \n",
            "2              7.0        2.0  8.25   9.6  9.25  29.10         3  \n",
            "3              7.0        NaN  8.75  10.0  9.25  28.00         4  \n",
            "4              2.0        2.0  8.25   9.7  8.00  27.95         5  \n",
            "..             ...        ...   ...   ...   ...    ...       ...  \n",
            "636            8.0        NaN  6.75   3.9  2.75  13.40       637  \n",
            "637           30.0        NaN  6.25   3.6  3.50  13.35       638  \n",
            "638            8.0        NaN  6.00   3.5  3.25  12.75       639  \n",
            "639            8.0        NaN  6.25   3.2  3.00  12.45       640  \n",
            "640           30.0        NaN  5.50   2.4  3.75  11.65       641  \n",
            "\n",
            "[641 rows x 11 columns]\n",
            "                 Tên  Mã số               Trường cấp 2  Nguyện vọng 1  \\\n",
            "0       QUÁCH KIM HÀ  60132             THCS Phú Cường              6   \n",
            "1   PHẠM TRÚC PHƯƠNG  60421        THCS Trần Đại Nghĩa              6   \n",
            "2     TRẦN KHẢ DOANH  60075    THCS-THPT Nguyễn Khuyến              6   \n",
            "3  NGUYỄN MAI PHƯƠNG  60417        THCS Trần Đại Nghĩa              6   \n",
            "4      TRẦN MINH THY  60558  THCS Nguyễn Thị Minh Khai              6   \n",
            "\n",
            "   Nguyện vọng 2  Điểm cộng   Văn   Anh  Toán   Tổng  Xếp hạng  \n",
            "0            2.0        3.0  9.00   8.9  8.75  29.65         1  \n",
            "1            7.0        2.0  8.75   9.6  9.25  29.60         2  \n",
            "2            7.0        2.0  8.25   9.6  9.25  29.10         3  \n",
            "3            7.0        NaN  8.75  10.0  9.25  28.00         4  \n",
            "4            2.0        2.0  8.25   9.7  8.00  27.95         5  \n"
          ]
        }
      ]
    },
    {
      "cell_type": "code",
      "source": [
        "data = dataset.to_numpy()\n",
        "print(data.shape)"
      ],
      "metadata": {
        "colab": {
          "base_uri": "https://localhost:8080/"
        },
        "id": "1d11BxjwhQ14",
        "outputId": "220a82b4-1258-4b20-e72a-ab366b886e48"
      },
      "execution_count": 4,
      "outputs": [
        {
          "output_type": "stream",
          "name": "stdout",
          "text": [
            "(641, 11)\n"
          ]
        }
      ]
    },
    {
      "cell_type": "code",
      "source": [
        "print(data[0])"
      ],
      "metadata": {
        "colab": {
          "base_uri": "https://localhost:8080/"
        },
        "id": "h0RpFQVDhQ4z",
        "outputId": "240f0d59-7e2d-4d18-dfbb-d94d0ea66e68"
      },
      "execution_count": 5,
      "outputs": [
        {
          "output_type": "stream",
          "name": "stdout",
          "text": [
            "['QUÁCH KIM HÀ' 60132 'THCS Phú Cường' 6 2.0 3.0 9.0 8.9 8.75 29.65 1]\n"
          ]
        }
      ]
    },
    {
      "cell_type": "code",
      "source": [
        "print(data.dtype)"
      ],
      "metadata": {
        "colab": {
          "base_uri": "https://localhost:8080/"
        },
        "id": "Qr4IXi0hhQ7z",
        "outputId": "9f4fc5c5-4c88-4a9b-f682-5c7baf726222"
      },
      "execution_count": 7,
      "outputs": [
        {
          "output_type": "stream",
          "name": "stdout",
          "text": [
            "object\n"
          ]
        }
      ]
    },
    {
      "cell_type": "code",
      "source": [
        "print(data[0].dtype)"
      ],
      "metadata": {
        "colab": {
          "base_uri": "https://localhost:8080/"
        },
        "id": "Ma8cxWaZhQ98",
        "outputId": "02c36651-6ae3-4922-f7ca-01eebc7fbe5a"
      },
      "execution_count": 8,
      "outputs": [
        {
          "output_type": "stream",
          "name": "stdout",
          "text": [
            "object\n"
          ]
        }
      ]
    },
    {
      "cell_type": "code",
      "source": [
        "np.nan_to_num([0.3, np.nan, 2.4])"
      ],
      "metadata": {
        "colab": {
          "base_uri": "https://localhost:8080/"
        },
        "id": "NPi6LBfdhRAe",
        "outputId": "3751147f-1b88-4174-fb5b-e2efa41d2feb"
      },
      "execution_count": 9,
      "outputs": [
        {
          "output_type": "execute_result",
          "data": {
            "text/plain": [
              "array([0.3, 0. , 2.4])"
            ]
          },
          "metadata": {},
          "execution_count": 9
        }
      ]
    },
    {
      "cell_type": "code",
      "source": [
        "data[:, 5] = np.nan_to_num(data[:, 5].astype(float))\n",
        "print(data[:, 5])\n",
        "print(data[-1])"
      ],
      "metadata": {
        "colab": {
          "base_uri": "https://localhost:8080/"
        },
        "id": "qVkx_mpMhRDe",
        "outputId": "0ac18f6f-a131-475f-b005-0ede940b2300"
      },
      "execution_count": 10,
      "outputs": [
        {
          "output_type": "stream",
          "name": "stdout",
          "text": [
            "[3.0 2.0 2.0 0.0 2.0 0.0 2.0 0.0 0.0 2.0 2.0 0.0 1.0 0.0 0.0 2.0 2.0 1.0\n",
            " 0.0 1.0 0.0 0.0 0.0 0.0 2.0 2.0 2.0 0.0 2.0 0.0 0.0 2.0 0.0 0.0 0.0 0.0\n",
            " 0.0 0.0 0.0 0.0 2.0 0.0 2.0 0.0 2.0 0.0 2.5 0.0 0.0 0.0 2.0 0.0 0.0 0.0\n",
            " 0.0 0.0 0.0 0.0 0.0 1.0 0.0 0.0 0.0 1.0 0.0 0.0 0.0 0.0 0.0 0.0 0.0 0.0\n",
            " 1.0 0.0 2.0 0.0 1.0 0.0 1.0 2.0 0.0 0.0 0.0 0.0 0.0 2.0 0.0 2.0 1.0 0.0\n",
            " 1.0 0.0 1.0 0.0 1.0 0.0 0.0 1.0 0.0 1.0 2.0 0.0 0.0 0.0 0.0 0.0 2.0 0.0\n",
            " 0.0 1.0 0.0 0.0 0.0 0.0 1.0 1.0 1.0 0.0 1.0 0.0 0.0 0.0 1.0 0.0 2.0 0.0\n",
            " 0.0 2.0 0.0 0.0 0.0 0.0 0.0 0.0 0.0 0.0 1.0 1.0 0.0 0.0 1.0 0.0 0.0 0.0\n",
            " 0.0 1.0 0.0 2.0 0.0 0.0 0.0 2.0 2.0 1.0 1.0 0.0 0.0 0.0 0.0 2.0 0.0 0.0\n",
            " 1.0 0.0 1.0 0.0 0.0 0.0 0.0 0.0 0.0 0.0 2.0 1.0 0.0 0.0 0.0 0.0 0.0 0.0\n",
            " 2.0 0.0 2.0 0.0 0.0 0.0 0.0 0.0 0.0 0.0 1.0 0.0 0.0 1.0 0.0 0.0 0.0 0.0\n",
            " 0.0 0.0 0.0 1.0 2.0 0.0 0.0 0.0 0.0 2.0 0.0 1.0 0.0 0.0 0.0 1.0 0.0 0.0\n",
            " 0.0 0.0 1.0 0.0 0.0 0.0 0.0 0.0 0.0 1.0 0.0 0.0 0.0 0.0 0.0 1.0 0.0 0.0\n",
            " 1.0 1.0 1.0 0.0 0.0 0.0 0.0 0.0 0.0 0.0 0.0 0.0 0.0 1.0 0.0 0.0 0.0 0.0\n",
            " 2.0 1.0 0.0 0.0 0.0 0.0 0.0 0.0 0.0 0.0 0.0 1.0 0.0 0.0 2.0 0.0 0.0 0.0\n",
            " 1.5 0.0 1.0 0.0 0.0 0.0 0.0 2.0 0.0 0.0 0.0 0.0 0.0 0.0 0.0 0.0 1.0 0.0\n",
            " 0.0 0.0 1.0 0.0 0.0 0.0 0.0 2.0 0.0 0.0 0.0 0.0 0.0 0.0 0.0 0.0 0.0 0.0\n",
            " 1.0 0.0 0.0 0.0 0.0 0.0 0.0 0.0 2.0 0.0 0.0 0.0 0.0 0.0 0.0 0.0 0.0 0.0\n",
            " 0.0 0.0 0.0 0.0 0.0 0.0 0.0 0.0 0.0 0.0 0.0 0.0 0.0 0.0 0.0 1.0 0.0 0.0\n",
            " 0.0 0.0 0.0 0.0 0.0 1.0 0.0 0.0 0.0 0.0 0.0 0.0 0.0 0.0 0.0 2.0 0.0 0.0\n",
            " 0.0 0.0 1.0 0.0 0.0 0.0 0.0 0.0 0.0 1.0 1.0 0.0 0.0 0.0 0.0 0.0 0.0 0.0\n",
            " 0.0 0.0 0.0 0.0 0.0 0.0 0.0 0.0 0.0 0.0 0.0 0.0 0.0 0.0 0.0 0.0 0.0 0.0\n",
            " 0.0 0.0 0.0 0.0 0.0 0.0 0.0 0.0 0.0 0.0 0.0 0.0 0.0 0.0 0.0 0.0 0.0 1.0\n",
            " 0.0 0.0 0.0 0.0 0.0 0.0 0.0 0.0 0.0 0.0 0.0 0.0 0.0 1.0 0.0 0.0 0.0 1.0\n",
            " 0.0 0.0 0.0 1.0 0.0 0.0 0.0 0.0 0.0 0.0 0.0 0.0 0.0 0.0 0.0 0.0 0.0 0.0\n",
            " 0.0 0.0 0.0 0.0 0.0 0.0 0.0 0.0 0.0 0.0 0.0 0.0 0.0 0.0 0.0 0.0 0.0 0.0\n",
            " 0.0 0.0 0.0 0.0 0.0 0.0 0.0 0.0 0.0 0.0 0.0 0.0 0.0 0.0 0.0 0.0 0.0 0.0\n",
            " 0.0 0.0 0.0 0.0 1.0 0.0 0.0 0.0 0.0 0.0 0.0 0.0 0.0 0.0 0.0 0.0 1.0 0.0\n",
            " 0.0 0.0 0.0 0.0 0.0 0.0 0.0 0.0 0.0 0.0 0.0 0.0 0.0 0.0 0.0 0.0 0.0 0.0\n",
            " 0.0 0.0 0.0 0.0 0.0 0.0 0.0 0.0 0.0 0.0 0.0 0.0 1.0 1.0 1.0 0.0 0.0 0.0\n",
            " 0.0 0.0 0.0 0.0 0.0 0.0 0.0 0.0 0.0 0.0 0.0 0.0 0.0 1.0 0.0 0.0 0.0 0.0\n",
            " 0.0 0.0 0.0 0.0 0.0 0.0 0.0 0.0 0.0 0.0 0.0 0.0 0.0 0.0 0.0 0.0 0.0 0.0\n",
            " 0.0 0.0 0.0 0.0 0.0 0.0 0.0 0.0 0.0 0.0 0.0 0.0 0.0 0.0 1.0 0.0 0.0 0.0\n",
            " 0.0 0.0 0.0 0.0 0.0 0.0 0.0 1.0 1.0 0.0 0.0 0.0 0.0 0.0 0.0 0.0 0.0 0.0\n",
            " 0.0 0.0 0.0 0.0 0.0 0.0 0.0 0.0 0.0 1.0 0.0 0.0 0.0 1.0 0.0 0.0 0.0 0.0\n",
            " 0.0 0.0 0.0 0.0 0.0 0.0 0.0 0.0 0.0 0.0 0.0]\n",
            "['LƯU QUANG ĐÔ' 60108 'THCS Trịnh Hoài Đức' 6 30.0 0.0 5.5 2.4 3.75 11.65\n",
            " 641]\n"
          ]
        }
      ]
    },
    {
      "cell_type": "code",
      "source": [
        "## Đưa ra thông tin của bạn với mã số: 60457\n",
        "## Đưa ra thông tin của bạn với tên là: Nguyễn Đình Nhân\n",
        "## Đưa ra thông tin của các bạn từ mã số: 60004 đến  60200 (Bạn nào không có thì không cần đưa ra)\n",
        "\n",
        "\n",
        "## Tính điểm thi trung bình cho từng bạn sinh viên\n",
        "## Tính điểm thi trung bình theo từng môn cho toàn bộ sinh viên\n",
        "## Đưa ra điểm thi trung bình cao nhất và thấp nhất cho toàn bộ 3 môn.\n",
        "## Xếp danh sách dựa vào điểm trung bình của môn Toán + Anh, tìm bạn có vị trí 100\n",
        "\n",
        "\n",
        "## Giả sử 1 trường lấy toàn bộ 300 sinh viên, dựa theo\n",
        "## a) Điểm môn Toán từ cao xuống thấp\n",
        "## b) Điểm tổng 3 môn và điểm cộng từ cao xuống thấp\n",
        "## c) Điểm trung bình 3 môn từ cao xuống thấp\n",
        "## Đưa ra danh sách những bạn sinh viên được chọn vào trường đó.\n",
        "\n",
        "\n",
        "## So sánh 2 bạn sinh viên mã số: 60575 và 60602 dựa trên tổng điểm 3 môn (không tính điểm cộng)"
      ],
      "metadata": {
        "id": "mHdcP0tmhRHi"
      },
      "execution_count": 11,
      "outputs": []
    },
    {
      "cell_type": "code",
      "source": [],
      "metadata": {
        "id": "UI40ErachRJ1"
      },
      "execution_count": null,
      "outputs": []
    }
  ]
}