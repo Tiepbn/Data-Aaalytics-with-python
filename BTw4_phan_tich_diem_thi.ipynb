{
  "nbformat": 4,
  "nbformat_minor": 0,
  "metadata": {
    "colab": {
      "provenance": [],
      "authorship_tag": "ABX9TyMAg++eE4XFP7TaUI9ySUmy",
      "include_colab_link": true
    },
    "kernelspec": {
      "name": "python3",
      "display_name": "Python 3"
    },
    "language_info": {
      "name": "python"
    }
  },
  "cells": [
    {
      "cell_type": "markdown",
      "metadata": {
        "id": "view-in-github",
        "colab_type": "text"
      },
      "source": [
        "<a href=\"https://colab.research.google.com/github/Tiepbn/Data-Aaalytics-with-python/blob/main/BTw4_phan_tich_diem_thi.ipynb\" target=\"_parent\"><img src=\"https://colab.research.google.com/assets/colab-badge.svg\" alt=\"Open In Colab\"/></a>"
      ]
    },
    {
      "cell_type": "code",
      "execution_count": 2,
      "metadata": {
        "id": "1NdXzALtfjya"
      },
      "outputs": [],
      "source": [
        "## Gọi ra những thư viện cần thiết\n",
        "import numpy as np\n",
        "import pandas as pd"
      ]
    },
    {
      "cell_type": "code",
      "source": [
        "dataset = pd.read_excel(\"/content/Week4-data_06.xlsx\")\n",
        "print(dataset.head())"
      ],
      "metadata": {
        "colab": {
          "base_uri": "https://localhost:8080/"
        },
        "id": "NziyKSZzhQwd",
        "outputId": "895fde23-2617-4f53-e76a-1c8edc0c6fe9"
      },
      "execution_count": 13,
      "outputs": [
        {
          "output_type": "stream",
          "name": "stdout",
          "text": [
            "                 Tên  Mã số               Trường cấp 2  Nguyện vọng 1  \\\n",
            "0       QUÁCH KIM HÀ  60132             THCS Phú Cường              6   \n",
            "1   PHẠM TRÚC PHƯƠNG  60421        THCS Trần Đại Nghĩa              6   \n",
            "2     TRẦN KHẢ DOANH  60075    THCS-THPT Nguyễn Khuyến              6   \n",
            "3  NGUYỄN MAI PHƯƠNG  60417        THCS Trần Đại Nghĩa              6   \n",
            "4      TRẦN MINH THY  60558  THCS Nguyễn Thị Minh Khai              6   \n",
            "\n",
            "   Nguyện vọng 2  Điểm cộng   Văn   Anh  Toán   Tổng  Xếp hạng  \n",
            "0            2.0        3.0  9.00   8.9  8.75  29.65         1  \n",
            "1            7.0        2.0  8.75   9.6  9.25  29.60         2  \n",
            "2            7.0        2.0  8.25   9.6  9.25  29.10         3  \n",
            "3            7.0        NaN  8.75  10.0  9.25  28.00         4  \n",
            "4            2.0        2.0  8.25   9.7  8.00  27.95         5  \n"
          ]
        }
      ]
    },
    {
      "cell_type": "code",
      "source": [
        "data = dataset.to_numpy()\n",
        "print(data.shape)"
      ],
      "metadata": {
        "colab": {
          "base_uri": "https://localhost:8080/"
        },
        "id": "1d11BxjwhQ14",
        "outputId": "220a82b4-1258-4b20-e72a-ab366b886e48"
      },
      "execution_count": 4,
      "outputs": [
        {
          "output_type": "stream",
          "name": "stdout",
          "text": [
            "(641, 11)\n"
          ]
        }
      ]
    },
    {
      "cell_type": "code",
      "source": [
        "print(data[0])"
      ],
      "metadata": {
        "colab": {
          "base_uri": "https://localhost:8080/"
        },
        "id": "h0RpFQVDhQ4z",
        "outputId": "240f0d59-7e2d-4d18-dfbb-d94d0ea66e68"
      },
      "execution_count": 5,
      "outputs": [
        {
          "output_type": "stream",
          "name": "stdout",
          "text": [
            "['QUÁCH KIM HÀ' 60132 'THCS Phú Cường' 6 2.0 3.0 9.0 8.9 8.75 29.65 1]\n"
          ]
        }
      ]
    },
    {
      "cell_type": "code",
      "source": [
        "print(data.dtype)"
      ],
      "metadata": {
        "colab": {
          "base_uri": "https://localhost:8080/"
        },
        "id": "Qr4IXi0hhQ7z",
        "outputId": "9f4fc5c5-4c88-4a9b-f682-5c7baf726222"
      },
      "execution_count": 7,
      "outputs": [
        {
          "output_type": "stream",
          "name": "stdout",
          "text": [
            "object\n"
          ]
        }
      ]
    },
    {
      "cell_type": "code",
      "source": [
        "print(data[0].dtype)"
      ],
      "metadata": {
        "colab": {
          "base_uri": "https://localhost:8080/"
        },
        "id": "Ma8cxWaZhQ98",
        "outputId": "02c36651-6ae3-4922-f7ca-01eebc7fbe5a"
      },
      "execution_count": 8,
      "outputs": [
        {
          "output_type": "stream",
          "name": "stdout",
          "text": [
            "object\n"
          ]
        }
      ]
    },
    {
      "cell_type": "code",
      "source": [
        "np.nan_to_num([0.3, np.nan, 2.4])"
      ],
      "metadata": {
        "colab": {
          "base_uri": "https://localhost:8080/"
        },
        "id": "NPi6LBfdhRAe",
        "outputId": "3751147f-1b88-4174-fb5b-e2efa41d2feb"
      },
      "execution_count": 9,
      "outputs": [
        {
          "output_type": "execute_result",
          "data": {
            "text/plain": [
              "array([0.3, 0. , 2.4])"
            ]
          },
          "metadata": {},
          "execution_count": 9
        }
      ]
    },
    {
      "cell_type": "code",
      "source": [
        "data[:, 5] = np.nan_to_num(data[:, 5].astype(float))\n",
        "\n",
        "print(data[-1])"
      ],
      "metadata": {
        "colab": {
          "base_uri": "https://localhost:8080/"
        },
        "id": "qVkx_mpMhRDe",
        "outputId": "c51fc14a-fb69-451c-f473-13b0fa9be5a9"
      },
      "execution_count": 14,
      "outputs": [
        {
          "output_type": "stream",
          "name": "stdout",
          "text": [
            "['LƯU QUANG ĐÔ' 60108 'THCS Trịnh Hoài Đức' 6 30.0 0.0 5.5 2.4 3.75 11.65\n",
            " 641]\n"
          ]
        }
      ]
    },
    {
      "cell_type": "code",
      "source": [
        "## Đưa ra thông tin của bạn với mã số: 60457\n",
        "## Đưa ra thông tin của bạn với tên là: Nguyễn Đình Nhân\n",
        "## Đưa ra thông tin của các bạn từ mã số: 60004 đến  60200 (Bạn nào không có thì không cần đưa ra)\n",
        "\n",
        "\n",
        "## Tính điểm thi trung bình cho từng bạn sinh viên\n",
        "## Tính điểm thi trung bình theo từng môn cho toàn bộ sinh viên\n",
        "## Đưa ra điểm thi trung bình cao nhất và thấp nhất cho toàn bộ 3 môn.\n",
        "## Xếp danh sách dựa vào điểm trung bình của môn Toán + Anh, tìm bạn có vị trí 100\n",
        "\n",
        "\n",
        "## Giả sử 1 trường lấy toàn bộ 300 sinh viên, dựa theo\n",
        "## a) Điểm môn Toán từ cao xuống thấp\n",
        "## b) Điểm tổng 3 môn và điểm cộng từ cao xuống thấp\n",
        "## c) Điểm trung bình 3 môn từ cao xuống thấp\n",
        "## Đưa ra danh sách những bạn sinh viên được chọn vào trường đó.\n",
        "\n",
        "\n",
        "## So sánh 2 bạn sinh viên mã số: 60575 và 60602 dựa trên tổng điểm 3 môn (không tính điểm cộng)"
      ],
      "metadata": {
        "id": "mHdcP0tmhRHi"
      },
      "execution_count": 11,
      "outputs": []
    },
    {
      "cell_type": "markdown",
      "source": [
        "##Đưa ra thông tin của bạn với mã số: 60457"
      ],
      "metadata": {
        "id": "g9or5WnS1Eot"
      }
    },
    {
      "cell_type": "code",
      "source": [
        "print(data[0][1])"
      ],
      "metadata": {
        "colab": {
          "base_uri": "https://localhost:8080/"
        },
        "id": "UI40ErachRJ1",
        "outputId": "72880872-3200-4b28-823e-7298bb12acd8"
      },
      "execution_count": 17,
      "outputs": [
        {
          "output_type": "stream",
          "name": "stdout",
          "text": [
            "60132\n"
          ]
        }
      ]
    },
    {
      "cell_type": "code",
      "source": [
        "print(np.where(data == 60457))"
      ],
      "metadata": {
        "id": "SMsfU2_fxG64",
        "outputId": "c8975f3f-05fd-4d64-8822-180e91bd297b",
        "colab": {
          "base_uri": "https://localhost:8080/"
        }
      },
      "execution_count": 20,
      "outputs": [
        {
          "output_type": "stream",
          "name": "stdout",
          "text": [
            "(array([100]), array([1]))\n"
          ]
        }
      ]
    },
    {
      "cell_type": "code",
      "source": [
        "print(data[100])"
      ],
      "metadata": {
        "id": "dMZU4f7i0vii",
        "outputId": "7494d67c-264e-4720-db25-ecc7da3a5d5e",
        "colab": {
          "base_uri": "https://localhost:8080/"
        }
      },
      "execution_count": 21,
      "outputs": [
        {
          "output_type": "stream",
          "name": "stdout",
          "text": [
            "['NGUYỄN LÊ PHƯƠNG TÂM' 60457 'THCS Phú Long' 6 7.0 2.0 7.0 9.4 6.25 24.65\n",
            " 101]\n"
          ]
        }
      ]
    },
    {
      "cell_type": "markdown",
      "source": [
        "## Đưa ra thông tin của bạn với tên là: Nguyễn Đình Nhân"
      ],
      "metadata": {
        "id": "rOboYsAQ1gIZ"
      }
    },
    {
      "cell_type": "code",
      "source": [
        "## Đưa ra thông tin của bạn với tên là: Nguyễn Đình Nhân"
      ],
      "metadata": {
        "id": "jnVG7ZGM1RFU"
      },
      "execution_count": 22,
      "outputs": []
    },
    {
      "cell_type": "code",
      "source": [
        "print(np.where(data == \"NGUYỄN ĐÌNH NHÂN\"))"
      ],
      "metadata": {
        "id": "Hl19Ua8u1coK",
        "outputId": "8a8e6e2f-d65c-444a-e5cf-fa7f240ea83a",
        "colab": {
          "base_uri": "https://localhost:8080/"
        }
      },
      "execution_count": 23,
      "outputs": [
        {
          "output_type": "stream",
          "name": "stdout",
          "text": [
            "(array([106]), array([0]))\n"
          ]
        }
      ]
    },
    {
      "cell_type": "code",
      "source": [
        "print(data[106])"
      ],
      "metadata": {
        "id": "UKvTsL302cJA",
        "outputId": "eaf5b62b-f48b-4150-f67b-0188cd206e22",
        "colab": {
          "base_uri": "https://localhost:8080/"
        }
      },
      "execution_count": 24,
      "outputs": [
        {
          "output_type": "stream",
          "name": "stdout",
          "text": [
            "['NGUYỄN ĐÌNH NHÂN' 60350 'THCS Nguyễn Văn Tiết' 6 7.0 2.0 6.0 8.6 8.0\n",
            " 24.6 107]\n"
          ]
        }
      ]
    },
    {
      "cell_type": "code",
      "source": [
        "data_id = data[:,1]\n",
        "data_id[0:3]"
      ],
      "metadata": {
        "id": "1AYnkNcS2i0C",
        "outputId": "6319c86e-7b5b-4840-cb5c-f0b4952e7ba9",
        "colab": {
          "base_uri": "https://localhost:8080/"
        }
      },
      "execution_count": 28,
      "outputs": [
        {
          "output_type": "execute_result",
          "data": {
            "text/plain": [
              "array([60132, 60421, 60075], dtype=object)"
            ]
          },
          "metadata": {},
          "execution_count": 28
        }
      ]
    },
    {
      "cell_type": "markdown",
      "source": [
        "\n",
        "## Đưa ra thông tin của các bạn từ mã số: 60004 đến  60200 (Bạn nào không có thì không cần đưa ra)"
      ],
      "metadata": {
        "id": "1vi7wyTr3U4x"
      }
    },
    {
      "cell_type": "code",
      "source": [
        "def print_from_to(a,b):\n",
        "  t=a\n",
        "  for i in range(b-a+1):\n",
        "    index = np.where(data_id == a)\n",
        "    print(data[index])\n",
        "    a+=1\n",
        "print_from_to(60004,60200)"
      ],
      "metadata": {
        "id": "O53X1xl03FSI",
        "outputId": "1544e6b7-028b-4c9f-eff7-834610734309",
        "colab": {
          "base_uri": "https://localhost:8080/"
        }
      },
      "execution_count": 39,
      "outputs": [
        {
          "output_type": "stream",
          "name": "stdout",
          "text": [
            "[['NGÔ MỸ GIA AN' 60004 'THCS-THPT Nguyễn Khuyến' 6 2.0 2.0 7.5 9.3 8.75\n",
            "  27.55 11]]\n",
            "[['ĐỖ TRỌNG QUỐC AN' 60005 'THÍ SINH TỰ DO' 6 30.0 0.0 6.0 5.4 5.25 16.65\n",
            "  599]]\n",
            "[['TRẦN NGUYỄN KHÁNH AN' 60006 'THCS Thái Hòa' 6 13.0 1.0 6.5 8.2 6.25\n",
            "  21.95 307]]\n",
            "[['TRẦN MINH AN' 60007 'THCS-THPT Nguyễn Khuyến' 6 2.0 0.0 6.25 4.4 4.75\n",
            "  15.4 621]]\n",
            "[['NGUYỄN THỊ DÂN AN' 60008 'THCS Phú Long' 6 7.0 2.0 7.75 8.3 7.75 25.8\n",
            "  45]]\n",
            "[['NGUYỄN LÝ KHÁNH AN' 60009 'THCS Nguyễn Thị Minh Khai' 6 2.0 0.0 7.75\n",
            "  8.3 8.0 24.05 140]]\n",
            "[['NGUYỄN NGỌC QUỲNH ANH' 60010 'THCS Trịnh Hoài Đức' 6 8.0 2.0 7.5 9.8\n",
            "  6.75 26.05 41]]\n",
            "[['PHAN BÙI KIỀU ANH' 60011 'THCS Nguyễn Thái Bình' 6 29.0 0.0 7.0 7.9\n",
            "  7.75 22.65 252]]\n",
            "[['NGUYỄN QUỐC ANH' 60012 'THCS Nguyễn Trung Trực' 6 8.0 0.0 7.25 5.6\n",
            "  7.25 20.1 456]]\n",
            "[['NGÔ ĐAN ANH' 60013 'THCS Thuận Giao' 6 8.0 0.0 8.0 7.7 7.25 22.95 228]]\n",
            "[['TRẦN THỊ PHƯƠNG ANH' 60014 'THCS Bình Chuẩn' 6 30.0 0.0 7.5 6.5 7.25\n",
            "  21.25 368]]\n",
            "[['HOÀNG QUANG ANH' 60015 'THCS Phú Hòa' 6 2.0 0.0 6.25 7.8 5.75 19.8 472]]\n",
            "[['TẠ ĐỨC ANH' 60016 'THCS Bình Chuẩn 2' 6 30.0 0.0 6.5 9.4 7.0 22.9 231]]\n",
            "[['DOÃN THỊ PHƯƠNG ANH' 60017 'THCS Bình Chiểu' 6 30.0 0.0 6.25 3.6 3.5\n",
            "  13.35 638]]\n",
            "[['HOÀNG VŨ TRÂM ANH' 60018 'THCS Chu Văn An' 6 3.0 0.0 5.75 5.5 6.25\n",
            "  17.5 580]]\n",
            "[['PHÙNG THỊ BẢO ANH' 60019 'THCS Phú Long' 6 7.0 0.0 7.0 6.7 6.75 20.45\n",
            "  434]]\n",
            "[['NGUYỄN ĐOÀN PHƯƠNG ANH' 60020 'THCS Phú Long' 6 7.0 0.0 6.5 6.2 7.75\n",
            "  20.45 433]]\n",
            "[['NGUYỄN NGỌC QUỲNH ANH' 60021 'THCS Nguyễn Trường Tộ' 6 7.0 0.0 7.75\n",
            "  5.4 6.25 19.4 506]]\n",
            "[['LÊ QUỲNH ANH' 60022 'THCS Phú Hòa' 6 3.0 0.0 7.5 6.1 7.5 21.1 382]]\n",
            "[['LÊ VIỆT ANH' 60023 'THCS Phú Long' 6 7.0 0.0 8.5 7.4 8.5 24.4 114]]\n",
            "[['NGUYỄN HOÀNG QUỲNH ANH' 60024 'THCS Phú Long' 6 7.0 0.0 6.5 8.6 8.25\n",
            "  23.35 187]]\n",
            "[['NGUYỄN MAI ANH' 60025 'THCS Phú Long' 6 7.0 0.0 7.25 7.9 5.5 20.65 415]]\n",
            "[['NGUYỄN NGỌC MINH ANH' 60026 'THCS Trịnh Hoài Đức' 6 8.0 2.0 8.25 7.4\n",
            "  5.0 22.65 253]]\n",
            "[['ĐAN THỊ PHƯƠNG ANH' 60027 'THCS Nguyễn Văn Tiết' 6 7.0 0.0 7.5 8.5 9.5\n",
            "  25.5 55]]\n",
            "[['BÙI LAN ANH' 60028 'THCS Phú Hòa' 6 2.0 0.0 7.25 7.7 6.75 21.7 326]]\n",
            "[['TRƯƠNG VĂN TẤN ANH' 60029 'THCS Bình Chuẩn' 6 12.0 0.0 7.25 8.4 8.0\n",
            "  23.65 164]]\n",
            "[['NGUYỄN TUẤN ANH' 60030 'THCS-THPT Nguyễn Khuyến' 6 7.0 1.0 6.25 8.3\n",
            "  8.25 23.8 155]]\n",
            "[['PHẠM NGỌC ANH' 60031 'THCS Nguyễn Thái Bình' 6 7.0 0.0 7.25 9.5 6.75\n",
            "  23.5 178]]\n",
            "[['TRẦN NHẬT ANH' 60032 'THCS Nguyễn Văn Tiết' 6 8.0 0.0 6.75 3.9 2.75\n",
            "  13.4 637]]\n",
            "[['NGUYỄN TUẤN ANH' 60033 'THCS Thanh Bình' 6 8.0 0.0 3.5 4.7 5.5 13.7\n",
            "  635]]\n",
            "[['TRẦN HÀ PHƯƠNG ANH' 60034 'THCS Trịnh Hoài Đức' 6 2.0 0.0 6.5 6.4 6.25\n",
            "  19.15 520]]\n",
            "[['BÙI THỊ NGỌC ANH' 60035 'THCS Thuận Giao' 6 30.0 0.0 7.75 7.5 6.75\n",
            "  22.0 306]]\n",
            "[['NGUYỄN HỒNG ÂN' 60036 'THCS Thuận Giao' 6 8.0 0.0 7.0 4.3 7.75 19.05\n",
            "  524]]\n",
            "[['LƯU MINH ÂN' 60037 'THCS Trần Đại Nghĩa' 6 7.0 0.0 7.75 9.4 9.5 26.65\n",
            "  21]]\n",
            "[['NGUYỄN PHẠM THIÊN ÂN' 60038 'THCS Trịnh Hoài Đức' 6 7.0 0.0 5.25 7.8\n",
            "  5.75 18.8 533]]\n",
            "[['NGUYỄN THỤY HỒNG ÂN' 60039 'THCS Nguyễn Trường Tộ' 6 7.0 0.0 7.0 4.4\n",
            "  7.75 19.15 519]]\n",
            "[['NGUYỄN CHÍ BẢO' 60040 'THCS Trần Đại Nghĩa' 6 nan 0.0 6.25 8.0 8.0\n",
            "  22.25 279]]\n",
            "[['ĐINH GIA BẢO' 60041 'THCS Trịnh Hoài Đức' 6 7.0 0.0 6.5 8.3 8.25 23.05\n",
            "  216]]\n",
            "[['THÁI BẢO' 60042 'THCS Chu Văn An' 6 8.0 0.0 7.0 8.4 8.5 23.9 149]]\n",
            "[['VƯƠNG GIA BẢO' 60043 'THCS Trần Đại Nghĩa' 6 2.0 1.0 7.75 7.6 8.0\n",
            "  24.35 117]]\n",
            "[['ĐINH GIA BẢO' 60044 'THCS Thuận Giao' 6 30.0 0.0 7.5 5.6 7.75 20.85\n",
            "  407]]\n",
            "[['HỒ CHÂU GIA BẢO' 60045 'THCS Trần Đại Nghĩa' 6 30.0 0.0 6.25 7.6 7.0\n",
            "  20.85 406]]\n",
            "[['NGUYỄN GIA BẢO' 60046 'THCS Bình Chuẩn' 6 30.0 0.0 6.25 9.0 9.25 24.5\n",
            "  109]]\n",
            "[['NGUYỄN XUÂN BẮC' 60047 'THCS Chu Văn An' 6 2.0 2.0 4.75 9.6 6.75 23.1\n",
            "  208]]\n",
            "[['TĂNG THỊ NGỌC BÍCH' 60048 'THCS Nguyễn Văn Trỗi' 6 30.0 2.0 6.25 8.9\n",
            "  9.25 26.4 27]]\n",
            "[['ĐỖ HÀ BÍCH' 60049 'THCS Dĩ An' 6 3.0 0.0 7.0 7.3 5.5 19.8 476]]\n",
            "[['DIỆP CẨM BÌNH' 60050 'THCS Nguyễn Văn Trỗi' 6 30.0 1.0 8.25 8.1 7.5\n",
            "  24.85 91]]\n",
            "[['TRẦN THỊ THANH BÌNH' 60051 'THCS Bình Chuẩn' 6 30.0 0.0 8.0 9.0 8.25\n",
            "  25.25 68]]\n",
            "[['NGUYỄN BIỀU THANH BÌNH' 60052 'THCS Phú Hòa' 6 2.0 1.0 8.25 8.9 8.75\n",
            "  26.9 18]]\n",
            "[['LÊ XUÂN BÌNH' 60053 'THCS Trịnh Hoài Đức' 6 8.0 0.0 8.25 4.3 7.0 19.55\n",
            "  490]]\n",
            "[['VÕ QUỐC BÌNH' 60054 'THCS Trịnh Hoài Đức' 6 7.0 0.0 7.0 6.8 7.0 20.8\n",
            "  410]]\n",
            "[['MAI THANH BÌNH' 60055 'THCS Trịnh Hoài Đức' 6 7.0 0.0 7.0 7.3 7.25\n",
            "  21.55 343]]\n",
            "[['NGUYỄN TRẦN THANH BÌNH' 60056 'THCS Nguyễn Trường Tộ' 6 7.0 0.0 8.5\n",
            "  5.3 6.0 19.8 473]]\n",
            "[['VÕ QUAN BÌNH' 60057 'THCS Trịnh Hoài Đức' 6 8.0 0.0 7.25 5.2 7.0 19.45\n",
            "  505]]\n",
            "[['HOÀNG XUÂN CƯỜNG' 60058 'THCS Nguyễn Thái Bình' 6 7.0 0.0 7.0 10.0\n",
            "  8.25 25.25 70]]\n",
            "[['NGUYỄN CHÍ CƯỜNG' 60059 'THCS Trần Đại Nghĩa' 6 8.0 0.0 8.25 9.5 7.75\n",
            "  25.5 56]]\n",
            "[['NGUYỄN BẢO CHÂU' 60060 'THCS Trịnh Hoài Đức' 6 7.0 0.0 6.5 5.6 7.75\n",
            "  19.85 469]]\n",
            "[['LƯƠNG LƯU BẢO CHÂU' 60061 'THCS Bình Chuẩn' 6 30.0 0.0 7.5 8.9 7.25\n",
            "  23.65 166]]\n",
            "[['LÊ NGUYỄN BẢO CHÂU' 60062 'THCS Phú Cường' 6 3.0 0.0 6.25 7.6 7.75\n",
            "  21.6 334]]\n",
            "[['NGUYỄN BÍCH CHÂU' 60063 'THCS Phú Long' 6 7.0 2.0 7.0 9.7 7.75 26.45\n",
            "  26]]\n",
            "[['ĐẶNG MINH CHÂU' 60064 'THCS Trịnh Hoài Đức' 6 8.0 0.0 6.25 4.4 8.25\n",
            "  18.9 531]]\n",
            "[['CHUNG HỒNG CHÂU' 60065 'THCS Trịnh Hoài Đức' 6 7.0 0.0 6.25 5.8 5.75\n",
            "  17.8 575]]\n",
            "[['CHUNG MINH CHÂU' 60066 'THCS Trịnh Hoài Đức' 6 7.0 0.0 6.25 6.8 7.25\n",
            "  20.3 445]]\n",
            "[['ĐẶNG MINH CHÂU' 60067 'THCS Nguyễn Thị Minh Khai' 6 2.0 0.0 9.0 9.9\n",
            "  9.0 27.9 8]]\n",
            "[['HOÀNG QUỲNH CHI' 60068 'THCS Nguyễn Thái Bình' 6 7.0 0.0 7.25 4.9 8.0\n",
            "  20.15 455]]\n",
            "[['NGUYỄN CÔNG CHUẨN' 60069 'THCS Bình Chuẩn' 6 30.0 1.0 7.25 9.5 7.0\n",
            "  24.75 98]]\n",
            "[['VÕ MINH CHƯƠNG' 60070 'THCS Trần Đại Nghĩa' 6 7.0 1.0 7.25 6.5 5.75\n",
            "  20.5 428]]\n",
            "[['NGUYỄN CÔNG DANH' 60071 'THCS Nguyễn Văn Trỗi' 6 7.0 0.0 7.5 7.5 6.75\n",
            "  21.75 324]]\n",
            "[['VƯƠNG NGUYỄN THÀNH DANH' 60072 'THCS Trịnh Hoài Đức' 6 2.0 1.0 6.0 8.1\n",
            "  7.75 22.85 236]]\n",
            "[['ĐẶNG THÀNH DANH' 60073 'THCS Bình Chuẩn' 6 30.0 0.0 6.5 5.1 8.75 20.35\n",
            "  438]]\n",
            "[['VŨ HUYỀN DIỆU' 60074 'THCS Nguyễn Thái Bình' 6 7.0 0.0 7.5 7.9 7.0\n",
            "  22.4 265]]\n",
            "[['TRẦN KHẢ DOANH' 60075 'THCS-THPT Nguyễn Khuyến' 6 7.0 2.0 8.25 9.6\n",
            "  9.25 29.1 3]]\n",
            "[['NGUYỄN VÕ PHÚC DU' 60076 'THCS Nguyễn Trung Trực' 6 7.0 0.0 6.75 3.3\n",
            "  7.5 17.55 579]]\n",
            "[['PHAN THÙY DUNG' 60077 'THCS Nguyễn Thị Minh Khai' 6 2.0 0.0 7.0 6.9\n",
            "  8.25 22.15 288]]\n",
            "[['PHAN THỊ MỸ DUNG' 60078 'THCS Nguyễn Văn Trỗi' 6 30.0 0.0 7.0 7.5 6.0\n",
            "  20.5 427]]\n",
            "[['NGUYỄN THÙY DUNG' 60079 'THCS Trịnh Hoài Đức' 6 8.0 0.0 7.0 7.4 7.75\n",
            "  22.15 289]]\n",
            "[['TRẦN MẠNH DŨNG' 60080 'THCS Phú Cường' 6 2.0 0.0 6.5 4.7 5.25 16.45\n",
            "  609]]\n",
            "[['TRẦN HOÀNG DŨNG' 60081 'THCS Nguyễn Văn Tiết' 6 7.0 0.0 5.75 7.6 6.25\n",
            "  19.6 488]]\n",
            "[['HÀ TRÍ DŨNG' 60082 'THCS Châu Văn Liêm' 6 7.0 0.0 6.75 6.9 7.25 20.9\n",
            "  398]]\n",
            "[['PHẠM NGUYỄN QUỐC DŨNG' 60083 'THCS Phú Long' 6 7.0 0.0 7.0 7.2 9.0\n",
            "  23.2 205]]\n",
            "[['HOÀNG LÂM BẢO DUY' 60084 'THCS Nguyễn Trung Trực' 6 8.0 0.0 7.25 6.1\n",
            "  7.5 20.85 408]]\n",
            "[['TRẦN KHÁNH DUY' 60085 'THCS Nguyễn Trung Trực' 6 7.0 0.0 6.75 8.8 6.5\n",
            "  22.05 297]]\n",
            "[['PHẠM HOÀNG THANH DUY' 60086 'THCS Trịnh Hoài Đức' 6 12.0 0.0 6.75 4.7\n",
            "  6.75 18.2 564]]\n",
            "[['VÕ THÚY DUY' 60087 'THCS Trịnh Hoài Đức' 6 8.0 0.0 5.75 4.8 7.5 18.05\n",
            "  568]]\n",
            "[['TỪ DUY' 60088 'THCS Nguyễn Trung Trực' 6 8.0 1.0 8.25 5.2 6.25 20.7\n",
            "  414]]\n",
            "[['LÊ TRUNG MINH DUY' 60089 'THCS Trịnh Hoài Đức' 6 8.0 2.0 4.75 8.3 7.25\n",
            "  22.3 278]]\n",
            "[['LÊ MINH DUYÊN' 60090 'THCS Nguyễn Văn Cừ' 6 2.0 0.0 8.25 8.6 8.5 25.35\n",
            "  62]]\n",
            "[['QUÁCH VŨ KỲ DUYÊN' 60091 'THCS Trịnh Hoài Đức' 6 8.0 0.0 5.75 4.0 7.0\n",
            "  16.75 596]]\n",
            "[['HỒ NGỌC ÁNH DƯƠNG' 60092 'THCS Nguyễn Trung Trực' 6 2.0 0.0 7.5 4.2\n",
            "  5.0 16.7 598]]\n",
            "[['BÙI NGỌC ÁNH DƯƠNG' 60093 'THCS Nguyễn Văn Trỗi' 6 30.0 0.0 7.0 7.3\n",
            "  7.75 22.05 299]]\n",
            "[['NGUYỄN ÁNH DƯƠNG' 60094 'TH-THCS-THPT Việt Anh' 6 7.0 0.0 8.25 7.6\n",
            "  6.25 22.1 294]]\n",
            "[['NGUYỄN ÁNH DƯƠNG' 60095 'THCS Phú Hòa' 6 8.0 1.0 6.5 6.5 7.25 21.25\n",
            "  371]]\n",
            "[['TRẦN QUANG ĐẠI' 60096 'THCS Nguyễn Trung Trực' 6 8.0 0.0 5.75 7.2 7.25\n",
            "  20.2 453]]\n",
            "[['LÊ NGUYỄN QUỐC ĐẠI' 60097 'THCS Trịnh Hoài Đức' 6 8.0 0.0 5.5 6.7 5.25\n",
            "  17.45 582]]\n",
            "[['LÊ HỒNG NGỌC ĐAN' 60098 'THCS Trịnh Hoài Đức' 6 7.0 0.0 7.75 8.1 6.25\n",
            "  22.1 295]]\n",
            "[['NGUYỄN MINH ĐAN' 60099 'THCS Trịnh Hoài Đức' 6 8.0 0.0 6.75 5.7 7.75\n",
            "  20.2 452]]\n",
            "[['TRẦN HỮU ĐẠT' 60100 'THCS Tân Thới' 6 7.0 0.0 5.0 7.6 7.75 20.35 441]]\n",
            "[['LÊ CÔNG ĐẠT' 60101 'THCS Nguyễn Văn Tiết' 6 7.0 0.0 6.75 8.7 7.5 22.95\n",
            "  227]]\n",
            "[['TRỊNH TIẾN ĐẠT' 60102 'THCS Bình Chuẩn 2' 6 30.0 0.0 7.75 3.0 7.5\n",
            "  18.25 563]]\n",
            "[['NGUYỄN TẤN ĐẠT' 60103 'THCS Trịnh Hoài Đức' 6 8.0 0.0 5.75 3.4 6.75\n",
            "  15.9 617]]\n",
            "[['PHẠM THÀNH ĐẠT' 60104 'THCS Trịnh Hoài Đức' 6 nan 1.0 5.0 4.2 4.75\n",
            "  14.95 626]]\n",
            "[['MÃ LƯƠNG HẢI ĐĂNG' 60105 'THCS Bình Chuẩn 2' 6 30.0 0.0 7.25 6.2 3.5\n",
            "  16.95 594]]\n",
            "[['TẤT DIỆP THI ĐÌNH' 60106 'THCS Phú Long' 6 7.0 1.0 8.0 9.1 6.25 24.35\n",
            "  116]]\n",
            "[['BÙI MINH KHÁNH ĐOAN' 60107 'THCS Chu Văn An' 6 2.0 0.0 7.5 8.9 7.25\n",
            "  23.65 167]]\n",
            "[['LƯU QUANG ĐÔ' 60108 'THCS Trịnh Hoài Đức' 6 30.0 0.0 5.5 2.4 3.75\n",
            "  11.65 641]]\n",
            "[['PHẠM PHƯƠNG ĐÔNG' 60109 'THCS Nguyễn Văn Tiết' 6 7.0 1.0 6.75 8.7 7.25\n",
            "  23.7 163]]\n",
            "[['NGUYỄN MẠNH ĐỨC' 60110 'THCS Trịnh Hoài Đức' 6 8.0 2.0 7.25 8.4 4.75\n",
            "  22.4 267]]\n",
            "[['HÒA MINH ĐỨC' 60111 'THCS Bình Chuẩn' 6 30.0 0.0 7.5 6.9 7.25 21.65\n",
            "  332]]\n",
            "[['NGUYỄN ĐÌNH ĐỨC' 60112 'THCS Trịnh Hoài Đức' 6 2.0 0.0 7.75 7.3 8.25\n",
            "  23.3 193]]\n",
            "[['NGUYỄN LÝ KIM GIA' 60113 'THCS Nguyễn Văn Tiết' 6 7.0 1.0 7.25 7.1\n",
            "  8.75 24.1 138]]\n",
            "[['TRẦN LÊ HÀ GIANG' 60114 'THCS Bình Chuẩn 2' 6 30.0 0.0 7.75 5.7 7.0\n",
            "  20.45 431]]\n",
            "[['PHẠM NGUYỄN TRÚC GIANG' 60115 'THCS Bình Chuẩn' 6 12.0 0.0 8.5 6.9\n",
            "  8.25 23.65 170]]\n",
            "[['TRẦN HOÀNG HƯƠNG GIANG' 60116 'THCS Nguyễn Thị Minh Khai' 6 2.0 0.0\n",
            "  7.25 8.1 5.0 20.35 442]]\n",
            "[['LÊ QUANG TRÀ GIANG' 60117 'THCS Nguyễn Trường Tộ' 6 8.0 0.0 7.5 9.5\n",
            "  7.0 24.0 143]]\n",
            "[['NGUYỄN TRẦN HOÀNG GIANG' 60118 'THCS Nguyễn Thái Bình' 6 7.0 0.0 8.5\n",
            "  8.1 7.75 24.35 118]]\n",
            "[['TRỊNH LONG GIANG' 60119 'THCS Nguyễn Thái Bình' 6 7.0 0.0 7.75 8.5\n",
            "  8.25 24.5 111]]\n",
            "[['BÙI PHẠM LÊ GIANG' 60120 'THCS Trần Đại Nghĩa' 6 21.0 0.0 8.0 8.0 6.75\n",
            "  22.75 246]]\n",
            "[['TRẦN HÀ GIANG' 60121 'THCS Nguyễn Văn Trỗi' 6 7.0 1.0 7.5 7.7 6.75\n",
            "  22.95 226]]\n",
            "[['PHẠM THỊ HƯƠNG GIANG' 60122 'THCS Bình Chuẩn' 6 12.0 0.0 8.0 8.1 9.25\n",
            "  25.35 63]]\n",
            "[['TRẦN HỒNG GIANG' 60123 'THCS Phú Long' 6 7.0 0.0 6.75 8.3 4.75 19.8\n",
            "  475]]\n",
            "[['PHẠM THỊ HÀ GIANG' 60124 'THCS Nguyễn Văn Trỗi' 6 8.0 0.0 7.5 5.2 7.25\n",
            "  19.95 465]]\n",
            "[['NGUYỄN PHÚ GIAO' 60125 'THCS Bình Chuẩn 2' 6 12.0 0.0 7.5 7.1 8.0 22.6\n",
            "  257]]\n",
            "[['NGUYỄN XUÂN GIÀU' 60126 'THCS Nguyễn Trường Tộ' 6 7.0 0.0 8.5 7.7 6.75\n",
            "  22.95 229]]\n",
            "[['VŨ THỊ HẢI HÀ' 60127 'THCS Bình Chuẩn 2' 6 30.0 0.0 8.5 6.7 7.25 22.45\n",
            "  262]]\n",
            "[['LÊ THANH HÀ' 60128 'THCS Nguyễn Thị Minh Khai' 6 2.0 0.0 8.25 8.9 8.75\n",
            "  25.9 44]]\n",
            "[['PHẠM THANH HÀ' 60129 'THCS Nguyễn Thị Minh Khai' 6 2.0 0.0 7.5 9.5 9.5\n",
            "  26.5 24]]\n",
            "[['LÊ HOÀNG NGỌC HÀ' 60130 'THCS Phú Long' 6 7.0 2.0 8.25 8.0 8.0 26.25\n",
            "  32]]\n",
            "[['PHẠM THANH HÀ' 60131 'THCS Nguyễn Thị Minh Khai' 6 3.0 0.0 7.75 9.1\n",
            "  8.25 25.1 76]]\n",
            "[['QUÁCH KIM HÀ' 60132 'THCS Phú Cường' 6 2.0 3.0 9.0 8.9 8.75 29.65 1]]\n",
            "[['LÊ HỒ ĐÔNG HẢI' 60133 'THCS Phú Long' 6 7.0 0.0 6.5 10.0 8.0 24.5 112]]\n",
            "[['HỒ ĐÌNH ĐÔNG HẢI' 60134 'THCS Nguyễn Văn Trỗi' 6 30.0 1.0 6.25 9.6\n",
            "  8.25 25.1 77]]\n",
            "[['LÊ PHAN HOÀNG HẢI' 60135 'THCS Phú Long' 6 7.0 0.0 7.0 7.3 8.5 22.8\n",
            "  240]]\n",
            "[['NGUYỄN HỒNG HẠNH' 60136 'THCS Phú Long' 6 7.0 2.5 7.75 8.0 7.5 25.75\n",
            "  47]]\n",
            "[['NGUYỄN CHÍ HÀO' 60137 'THCS Trịnh Hoài Đức' 6 30.0 0.0 7.0 4.2 5.25\n",
            "  16.45 608]]\n",
            "[['NGUYỄN NHẬT HÀO' 60138 'THCS Trịnh Hoài Đức' 6 7.0 0.0 6.5 7.0 5.0\n",
            "  18.5 549]]\n",
            "[['NGUYỄN ĐÌNH HÀO' 60139 'THCS Trịnh Hoài Đức' 6 8.0 0.0 7.0 4.8 6.75\n",
            "  18.55 547]]\n",
            "[['NGÔ VỸ HÀO' 60140 'THCS Trịnh Hoài Đức' 6 8.0 1.0 8.0 3.3 7.25 19.55\n",
            "  491]]\n",
            "[['NGUYỄN BÙI KHÁNH HẰNG' 60141 'THCS Chu Văn An' 6 2.0 1.0 6.75 7.6 8.5\n",
            "  23.85 154]]\n",
            "[['PHÙNG TRÚC HÂN' 60142 'THCS Trịnh Hoài Đức' 6 8.0 1.0 7.0 4.2 6.5 18.7\n",
            "  537]]\n",
            "[['THƯỢNG NGUYỄN BẢO HÂN' 60143 'THCS Nguyễn Thị Minh Khai' 6 2.0 0.0\n",
            "  7.75 8.3 7.75 23.8 156]]\n",
            "[['NGUYỄN NGỌC BẢO HÂN' 60144 'THCS Nguyễn Thái Bình' 6 8.0 0.0 7.0 6.9\n",
            "  6.75 20.65 416]]\n",
            "[['HUỲNH BẢO HÂN' 60145 'THCS Nguyễn Trường Tộ' 6 7.0 1.0 7.25 8.1 7.0\n",
            "  23.35 191]]\n",
            "[['TRẦN NGUYỄN GIA HÂN' 60146 'THCS Nguyễn Viết Xuân' 6 2.0 0.0 7.0 6.2\n",
            "  7.0 20.2 450]]\n",
            "[['PHAN KHẢ HÂN' 60147 'THCS Phú Hòa' 6 3.0 0.0 7.25 7.6 6.75 21.6 337]]\n",
            "[['THÁI GIA HÂN' 60148 'THCS Trịnh Hoài Đức' 6 8.0 0.0 7.0 5.4 6.0 18.4\n",
            "  551]]\n",
            "[['NGUYỄN HOÀNG BẢO HÂN' 60149 'THCS Phú Long' 6 7.0 1.5 6.5 6.1 8.25\n",
            "  22.35 271]]\n",
            "[['TRẦN NGUYỄN NGỌC HÂN' 60150 'THCS Trịnh Hoài Đức' 6 8.0 0.0 7.5 4.8\n",
            "  4.0 16.3 612]]\n",
            "[['CÙ THỊ GIA HÂN' 60151 'THCS Nguyễn Trung Trực' 6 8.0 0.0 6.0 3.5 3.25\n",
            "  12.75 639]]\n",
            "[['NGUYỄN GIA HÂN' 60152 'THCS-THPT Nguyễn Khuyến' 6 nan 0.0 6.25 6.7\n",
            "  7.75 20.7 413]]\n",
            "[['TRẦN PHÚC HẬU' 60153 'THCS Trịnh Hoài Đức' 6 8.0 0.0 7.75 9.4 9.25\n",
            "  26.4 28]]\n",
            "[['NGUYỄN TRUNG HẬU' 60154 'THCS Trịnh Hoài Đức' 6 8.0 0.0 6.5 3.4 7.25\n",
            "  17.15 590]]\n",
            "[['NGUYỄN TRUNG HẬU' 60155 'THCS Trịnh Hoài Đức' 6 7.0 0.0 7.25 7.1 7.25\n",
            "  21.6 335]]\n",
            "[['HÀ THANH HIỀN' 60156 'THCS Trịnh Hoài Đức' 6 8.0 0.0 7.0 5.6 8.25\n",
            "  20.85 404]]\n",
            "[['NGUYỄN THÚY HIỀN' 60157 'THCS Bình Chuẩn 2' 6 30.0 0.0 7.0 4.8 8.75\n",
            "  20.55 424]]\n",
            "[['PHẠM LỢI NGỌC HIỀN' 60158 'THCS Châu Văn Liêm' 6 7.0 0.0 8.5 9.9 9.5\n",
            "  27.9 6]]\n",
            "[['TRẦN MINH HIỀN' 60159 'THCS Nguyễn Trung Trực' 6 8.0 0.0 6.5 4.3 7.0\n",
            "  17.8 576]]\n",
            "[['TRẦN LÊ THU HIỀN' 60160 'THCS Nguyễn Trung Trực' 6 7.0 0.0 7.25 6.5\n",
            "  8.25 22.0 304]]\n",
            "[['TRẦN NGUYỄN THANH HIỀN' 60161 'THCS Trịnh Hoài Đức' 6 8.0 1.0 6.25 5.7\n",
            "  5.75 18.7 535]]\n",
            "[['NGUYỄN HỒ THẾ HIỂN' 60162 'THCS Trịnh Hoài Đức' 6 8.0 0.0 5.5 3.2 5.5\n",
            "  14.2 630]]\n",
            "[['NGUYỄN MINH TRUNG HIỆP' 60163 'THCS Trịnh Hoài Đức' 6 7.0 0.0 7.25 8.6\n",
            "  7.0 22.85 238]]\n",
            "[['LÊ THỊ NGỌC HIẾU' 60164 'THCS Bình Chuẩn' 6 12.0 0.0 8.0 8.0 8.25\n",
            "  24.25 129]]\n",
            "[['NGUYỄN MINH HIẾU' 60165 'THCS Trịnh Hoài Đức' 6 8.0 0.0 8.0 8.0 6.75\n",
            "  22.75 243]]\n",
            "[['QUANG MỸ HOA' 60166 'THCS Nguyễn Viết Xuân' 6 3.0 0.0 7.75 7.3 6.25\n",
            "  21.3 366]]\n",
            "[['NGUYỄN QUỲNH HOA' 60167 'THCS Trịnh Hoài Đức' 6 8.0 0.0 7.5 4.2 8.0\n",
            "  19.7 478]]\n",
            "[['DƯƠNG QUỲNH HOA' 60168 'THCS Nguyễn Viết Xuân' 6 2.0 0.0 7.25 6.2 6.75\n",
            "  20.2 449]]\n",
            "[['NGUYỄN AN HOÀI' 60169 'THCS-THPT Nguyễn Khuyến' 6 2.0 0.0 8.0 10.0 9.5\n",
            "  27.5 12]]\n",
            "[['NGUYỄN NHƯ HOÀN' 60170 'THCS Trịnh Hoài Đức' 6 7.0 2.0 5.75 8.5 7.5\n",
            "  23.75 160]]\n",
            "[['LÂM KHÁNH HOÀNG' 60171 'THCS Trịnh Hoài Đức' 6 8.0 0.0 8.0 8.0 7.75\n",
            "  23.75 158]]\n",
            "[['NGUYỄN MINH HOÀNG' 60172 'THCS Châu Văn Liêm' 6 7.0 0.0 6.25 8.5 6.5\n",
            "  21.25 372]]\n",
            "[['LÊ VIỆT HOÀNG' 60173 'THCS Trần Đại Nghĩa' 6 7.0 0.0 5.0 5.8 6.5 17.3\n",
            "  586]]\n",
            "[['NGUYỄN HUY HOÀNG' 60174 'TH-THCS-THPT Đức Trí' 6 8.0 0.0 5.5 5.6 3.0\n",
            "  14.1 632]]\n",
            "[['NGUYỄN TRẦN GIA HOÀNG' 60175 'THCS Trịnh Hoài Đức' 6 2.0 0.0 6.75 7.8\n",
            "  7.75 22.3 276]]\n",
            "[['VƯƠNG KIM HUÂN' 60176 'THCS Nguyễn Văn Tiết' 6 7.0 0.0 6.75 5.7 3.75\n",
            "  16.2 614]]\n",
            "[['VÕ ĐÌNH GIA HUY' 60177 'THCS Bình Chuẩn 2' 6 12.0 0.0 8.0 8.5 8.75\n",
            "  25.25 69]]\n",
            "[['TRẦN HOÀNG GIA HUY' 60178 'THCS Bình Chuẩn' 6 30.0 1.0 7.5 9.4 6.5\n",
            "  24.4 115]]\n",
            "[['THIỆU HUỲNH GIA HUY' 60179 'THCS Trịnh Hoài Đức' 6 7.0 0.0 6.25 3.6\n",
            "  4.75 14.6 629]]\n",
            "[['NGÔ GIA HUY' 60180 'THCS Nguyễn Văn Trỗi' 6 7.0 0.0 7.75 9.4 7.75 24.9\n",
            "  87]]\n",
            "[['PHAN THANH HUY' 60181 'THCS Trần Đại Nghĩa' 6 2.0 0.0 7.5 8.3 8.5 24.3\n",
            "  124]]\n",
            "[['NGUYỄN NGỌC GIA HUY' 60182 'THCS Trịnh Hoài Đức' 6 7.0 0.0 6.25 5.6\n",
            "  5.5 17.35 583]]\n",
            "[['VÕ MINH HUY' 60183 'THCS Bình Chuẩn 2' 6 30.0 0.0 7.0 7.9 7.0 21.9 312]]\n",
            "[['LƯỜNG GIA HUY' 60184 'THCS Bình Chuẩn' 6 30.0 0.0 7.25 7.7 8.25 23.2\n",
            "  204]]\n",
            "[['NGUYỄN VŨ HOÀNG HUY' 60185 'THCS Nguyễn Văn Tiết' 6 7.0 0.0 7.5 9.3\n",
            "  8.0 24.8 92]]\n",
            "[['NGUYỄN VĂN ANH HUY' 60186 'THCS Bình Chuẩn' 6 12.0 0.0 6.0 7.1 7.75\n",
            "  20.85 402]]\n",
            "[['NGÔ KHÁNH KIM HUY' 60187 'THCS Phú Long' 6 7.0 0.0 7.25 6.3 6.0 19.55\n",
            "  494]]\n",
            "[['NGUYỄN DUY HOÀNG HUY' 60188 'THCS Nguyễn Văn Trỗi' 6 7.0 0.0 6.25 5.5\n",
            "  7.5 19.25 514]]\n",
            "[['TRẦN THỊ THU HUYỀN' 60189 'THCS Bình Chuẩn' 6 30.0 0.0 6.0 6.6 8.25\n",
            "  20.85 403]]\n",
            "[['TRƯƠNG NGUYỄN NGỌC HUYỀN' 60190 'THCS Thái Hòa' 6 13.0 0.0 7.0 7.1 6.5\n",
            "  20.6 420]]\n",
            "[['NGUYỄN VÕ MAI HUỲNH' 60191 'THCS Trịnh Hoài Đức' 6 8.0 0.0 6.0 6.8 4.5\n",
            "  17.3 587]]\n",
            "[['BÙI TUẤN HƯNG' 60192 'THCS Thuận Giao' 6 8.0 0.0 8.0 8.2 9.25 25.45 59]]\n",
            "[['TRẦN LÊ TUẤN HƯNG' 60193 'THCS Thuận Giao' 6 30.0 0.0 9.0 6.3 7.75\n",
            "  23.05 217]]\n",
            "[['NGUYỄN CHẤN HƯNG' 60194 'THCS Trịnh Hoài Đức' 6 8.0 0.0 6.75 7.6 7.75\n",
            "  22.1 293]]\n",
            "[['NGUYỄN THIỆN DIỄM HƯƠNG' 60195 'THCS Trịnh Hoài Đức' 6 7.0 0.0 8.75\n",
            "  5.8 5.0 19.55 493]]\n",
            "[['NGÔ THỊ THU HƯƠNG' 60196 'THCS Bình Chuẩn' 6 12.0 0.0 7.75 5.4 7.5\n",
            "  20.65 418]]\n",
            "[['NGUYỄN QUỲNH HƯƠNG' 60197 'THCS Nguyễn Văn Tiết' 6 7.0 1.0 8.25 8.6\n",
            "  9.0 26.85 20]]\n",
            "[['NGUYỄN THỊ MAI HƯƠNG' 60198 'THCS Nguyễn Văn Trỗi' 6 30.0 0.0 9.25 8.7\n",
            "  8.25 26.2 33]]\n",
            "[['NGÔ BÍCH HỮU' 60199 'THCS Trịnh Hoài Đức' 6 8.0 0.0 8.0 9.3 7.5 24.8\n",
            "  94]]\n",
            "[['NGUYỄN TRẦN MINH HỮU' 60200 'THCS Nguyễn Văn Tiết' 6 7.0 0.0 6.75 6.5\n",
            "  7.75 21.0 387]]\n"
          ]
        }
      ]
    },
    {
      "cell_type": "code",
      "source": [],
      "metadata": {
        "id": "Rx3lKVIs3kmh"
      },
      "execution_count": null,
      "outputs": []
    }
  ]
}