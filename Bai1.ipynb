{
  "cells": [
    {
      "cell_type": "code",
      "execution_count": 1,
      "metadata": {
        "id": "kZmcosXCR_Qz",
        "outputId": "2d346543-f16e-46f6-e8b9-f1d4f7733963",
        "colab": {
          "base_uri": "https://localhost:8080/"
        }
      },
      "outputs": [
        {
          "output_type": "stream",
          "name": "stdout",
          "text": [
            "hello world\n",
            "my name is Tiep, I'm 20 years old. I like coffee because it helps me stay awake\n",
            "This is Bai1.ipynb\n"
          ]
        }
      ],
      "source": [
        "print(\"hello world\")\n",
        "print(\"my name is Tiep, I'm 20 years old. I like coffee because it helps me stay awake\")\n",
        "print(\"This is Bai1.ipynb\")"
      ]
    },
    {
      "cell_type": "code",
      "execution_count": 23,
      "metadata": {
        "id": "rOnonlyNR_Q4",
        "outputId": "7a202cc8-97f3-41e4-874a-e78d3b8d1644",
        "colab": {
          "base_uri": "https://localhost:8080/"
        }
      },
      "outputs": [
        {
          "output_type": "stream",
          "name": "stdout",
          "text": [
            "Số tiền sau 10 năm là: 16444745.64 VND\n"
          ]
        }
      ],
      "source": [
        "#ex2:\n",
        "def interest_rate(P,r,t):\n",
        "    return P * (1 + r)**t\n",
        "\n",
        "S = interest_rate(10000000,0.051,10)\n",
        "print(f\"Số tiền sau 10 năm là: {round(S,2)} VND\")"
      ]
    },
    {
      "cell_type": "code",
      "source": [
        "def numberOfYearOfDeposip(P,r):\n",
        "  t=0\n",
        "  while P < 50000000:\n",
        "      P = P * (1 + r)\n",
        "      t += 1\n",
        "  return t\n",
        "\n",
        "print(f\"Sau {numberOfYearOfDeposip(10000000,0.051)} năm, bạn sẽ có ít nhất 50 000 000 VND.\")"
      ],
      "metadata": {
        "id": "beUcJ60Tajw8",
        "outputId": "2285bd47-dd6d-4117-8a57-1bd614c7d372",
        "colab": {
          "base_uri": "https://localhost:8080/"
        }
      },
      "execution_count": 30,
      "outputs": [
        {
          "output_type": "stream",
          "name": "stdout",
          "text": [
            "Sau 33 năm, bạn sẽ có ít nhất 50 000 000 VND.\n"
          ]
        }
      ]
    },
    {
      "cell_type": "code",
      "source": [
        "#ex3\n",
        "n = int(input(\"Nhập số nguyên n: \"))\n",
        "\n",
        "# Chuyển đổi và in ra các dạng cơ số\n",
        "print(f\"Số {n} ở dạng cơ số 16 là: {format(n, 'x')}\")\n",
        "print(f\"Số {n} ở dạng cơ số 8 là: {format(n, 'o')}\")\n",
        "print(f\"Số {n} ở dạng cơ số 2 là: {format(n, 'b')}\")"
      ],
      "metadata": {
        "id": "nVTjyM_9c66-",
        "outputId": "1ffeb134-ce90-4deb-bcc0-9a354a5ef4fd",
        "colab": {
          "base_uri": "https://localhost:8080/"
        }
      },
      "execution_count": 1,
      "outputs": [
        {
          "output_type": "stream",
          "name": "stdout",
          "text": [
            "Nhập số nguyên n: 15\n",
            "Số 15 ở dạng cơ số 16 là: f\n",
            "Số 15 ở dạng cơ số 8 là: 17\n",
            "Số 15 ở dạng cơ số 2 là: 1111\n"
          ]
        }
      ]
    },
    {
      "cell_type": "code",
      "source": [
        "#ex4\n",
        "a = int(input(\"Nhập số nguyên a: \"))\n",
        "b = int(input(\"Nhập số nguyên b: \"))\n",
        "\n",
        "# Tính căn bậc b của a\n",
        "result = a ** (1/b)\n",
        "\n",
        "print(f\"Căn bậc {b} của {a} là: {result}\")"
      ],
      "metadata": {
        "id": "6otmrmypcDGd",
        "outputId": "d96448fb-df34-4acb-c6e3-accb8c8819b1",
        "colab": {
          "base_uri": "https://localhost:8080/"
        }
      },
      "execution_count": 3,
      "outputs": [
        {
          "output_type": "stream",
          "name": "stdout",
          "text": [
            "Nhập số nguyên a: 5\n",
            "Nhập số nguyên b: 8\n",
            "Căn bậc 8 của 5 là: 1.2228445449938519\n"
          ]
        }
      ]
    },
    {
      "cell_type": "code",
      "source": [
        "#ex5\n",
        "def count_digits_and_first_digit(X):\n",
        "    X_str = str(X)\n",
        "    digit_count = len(X_str)\n",
        "\n",
        "    # Lấy chữ số đầu tiên\n",
        "    first_digit = int(X_str[0]) if digit_count > 0 else None\n",
        "\n",
        "    return digit_count, first_digit\n",
        "\n",
        "X = int(input(\"Nhập số nguyên X: \"))\n",
        "\n",
        "count, first_digit = count_digits_and_first_digit(X)\n",
        "\n",
        "# In ra kết quả\n",
        "print(f\"Số chữ số của {X} là: {count}\")\n",
        "print(f\"Chữ số đầu tiên của {X} là: {first_digit}\")\n"
      ],
      "metadata": {
        "id": "eyExQp0hBvIv",
        "outputId": "ab4d267a-085b-4e42-e465-876e88fda66b",
        "colab": {
          "base_uri": "https://localhost:8080/"
        }
      },
      "execution_count": 4,
      "outputs": [
        {
          "output_type": "stream",
          "name": "stdout",
          "text": [
            "Nhập số nguyên X: 346246\n",
            "Số chữ số của 346246 là: 6\n",
            "Chữ số đầu tiên của 346246 là: 3\n"
          ]
        }
      ]
    },
    {
      "cell_type": "code",
      "source": [
        "#ex6\n",
        "def find_max(a, b, c):\n",
        "    max_value = max(a, b, c)\n",
        "    count_max = [a, b, c].count(max_value)\n",
        "\n",
        "    if count_max == 2:\n",
        "        # Nếu có 2 số cùng là số lớn nhất, in ra số còn lại\n",
        "        max_value = sum([a, b, c]) - 2 * max_value\n",
        "\n",
        "    return max_value,count_max\n",
        "\n",
        "# Nhập 3 số nguyên a, b, c từ người dùng\n",
        "a = int(input(\"Nhập số nguyên a: \"))\n",
        "b = int(input(\"Nhập số nguyên b: \"))\n",
        "c = int(input(\"Nhập số nguyên c: \"))\n",
        "\n",
        "# Gọi hàm và nhận kết quả\n",
        "result,count_max = find_max(a, b, c)\n",
        "\n",
        "print(f\"Số lớn nhất trong {a}, {b}, {c} là: {result}\") if count_max == 1 else print(\"Có 2 số lớn nhất trùng nhau, số còn lại là \", result)\n"
      ],
      "metadata": {
        "id": "xpjQkVl9BwCF",
        "outputId": "f03156c9-6fa8-4b55-b012-4e726aabdcce",
        "colab": {
          "base_uri": "https://localhost:8080/"
        }
      },
      "execution_count": 5,
      "outputs": [
        {
          "output_type": "stream",
          "name": "stdout",
          "text": [
            "Nhập số nguyên a: 5\n",
            "Nhập số nguyên b: 5\n",
            "Nhập số nguyên c: 3\n",
            "Có 2 số lớn nhất trùng nhau, số còn lại là  3\n"
          ]
        }
      ]
    },
    {
      "cell_type": "code",
      "source": [],
      "metadata": {
        "id": "7pKAcELWBwFT"
      },
      "execution_count": null,
      "outputs": []
    },
    {
      "cell_type": "code",
      "source": [],
      "metadata": {
        "id": "3wTKlWZ1BwIq"
      },
      "execution_count": null,
      "outputs": []
    },
    {
      "cell_type": "code",
      "source": [],
      "metadata": {
        "id": "WSEfPIKNBwKY"
      },
      "execution_count": null,
      "outputs": []
    }
  ],
  "metadata": {
    "kernelspec": {
      "display_name": "Python 3",
      "language": "python",
      "name": "python3"
    },
    "language_info": {
      "codemirror_mode": {
        "name": "ipython",
        "version": 3
      },
      "file_extension": ".py",
      "mimetype": "text/x-python",
      "name": "python",
      "nbconvert_exporter": "python",
      "pygments_lexer": "ipython3",
      "version": "3.10.1"
    },
    "colab": {
      "provenance": []
    }
  },
  "nbformat": 4,
  "nbformat_minor": 0
}