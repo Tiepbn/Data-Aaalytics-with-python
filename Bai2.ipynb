{
  "nbformat": 4,
  "nbformat_minor": 0,
  "metadata": {
    "colab": {
      "provenance": [],
      "authorship_tag": "ABX9TyPB7F5lGQKKu8l2adj/KRTY",
      "include_colab_link": true
    },
    "kernelspec": {
      "name": "python3",
      "display_name": "Python 3"
    },
    "language_info": {
      "name": "python"
    }
  },
  "cells": [
    {
      "cell_type": "markdown",
      "metadata": {
        "id": "view-in-github",
        "colab_type": "text"
      },
      "source": [
        "<a href=\"https://colab.research.google.com/github/Tiepbn/Data-Aaalytics-with-python/blob/main/Bai2.ipynb\" target=\"_parent\"><img src=\"https://colab.research.google.com/assets/colab-badge.svg\" alt=\"Open In Colab\"/></a>"
      ]
    },
    {
      "cell_type": "code",
      "execution_count": 1,
      "metadata": {
        "id": "f0G0zDNQSLVX",
        "colab": {
          "base_uri": "https://localhost:8080/"
        },
        "outputId": "670e31dd-f221-488c-ab65-e97912379c3e"
      },
      "outputs": [
        {
          "output_type": "stream",
          "name": "stdout",
          "text": [
            "Nhập số thứ nhất: 4\n",
            "Nhập số thứ hai: 4\n",
            "Nhập số thứ ba: 6\n",
            "Nhập số thứ tư: 6\n",
            "Nhập số thứ năm: 5\n",
            "Trung bình cộng của 4.0, 4.0, 6.0, 6.0, và 5.0 là: 5.0\n"
          ]
        }
      ],
      "source": [
        "#ex1\n",
        "def average_of_five_numbers(a, b, c, d, e):\n",
        "    return ( a + b + c + d + e)/5\n",
        "\n",
        "\n",
        "a = float(input(\"Nhập số thứ nhất: \"))\n",
        "b = float(input(\"Nhập số thứ hai: \"))\n",
        "c = float(input(\"Nhập số thứ ba: \"))\n",
        "d = float(input(\"Nhập số thứ tư: \"))\n",
        "e = float(input(\"Nhập số thứ năm: \"))\n",
        "\n",
        "result = average_of_five_numbers(a, b, c, d, e)\n",
        "\n",
        "print(f\"Trung bình cộng của {a}, {b}, {c}, {d}, và {e} là: {result}\")\n"
      ]
    },
    {
      "cell_type": "code",
      "source": [
        "def area_of_triangle(a, b, c):\n",
        "    s = (a + b + c) / 2\n",
        "    area = (s * (s - a) * (s - b) * (s - c)) ** 0.5\n",
        "    return area\n",
        "\n",
        "a = float(input(\"Nhập độ dài cạnh thứ nhất: \"))\n",
        "b = float(input(\"Nhập độ dài cạnh thứ hai: \"))\n",
        "c = float(input(\"Nhập độ dài cạnh thứ ba: \"))\n",
        "\n",
        "result = area_of_triangle(a, b, c)\n",
        "\n",
        "print(f\"Diện tích tam giác có cạnh {a}, {b}, {c} là: {result}\")\n"
      ],
      "metadata": {
        "colab": {
          "base_uri": "https://localhost:8080/"
        },
        "id": "8ESHxzbFIlda",
        "outputId": "ef667d69-ed79-4dc6-da66-a760a5121ac2"
      },
      "execution_count": 2,
      "outputs": [
        {
          "output_type": "stream",
          "name": "stdout",
          "text": [
            "Nhập độ dài cạnh thứ nhất: 3\n",
            "Nhập độ dài cạnh thứ hai: 4\n",
            "Nhập độ dài cạnh thứ ba: 5\n",
            "Diện tích tam giác có cạnh 3.0, 4.0, 5.0 là: 6.0\n"
          ]
        }
      ]
    },
    {
      "cell_type": "code",
      "source": [
        "def area_of_triangle_by_coordinates(x1, y1, x2, y2, x3, y3):\n",
        "    area = 0.5 * abs(x1*(y2-y3) + x2*(y3-y1) + x3*(y1-y2))\n",
        "\n",
        "    return area\n",
        "\n",
        "x1, y1 = map(float, input(\"Nhập tọa độ của đỉnh 1 (x1 y1): \").split())\n",
        "x2, y2 = map(float, input(\"Nhập tọa độ của đỉnh 2 (x2 y2): \").split())\n",
        "x3, y3 = map(float, input(\"Nhập tọa độ của đỉnh 3 (x3 y3): \").split())\n",
        "\n",
        "result = area_of_triangle_by_coordinates(x1, y1, x2, y2, x3, y3)\n",
        "\n",
        "print(f\"Diện tích tam giác có đỉnh tại ({x1}, {y1}), ({x2}, {y2}), và ({x3}, {y3}) là: {result}\")\n"
      ],
      "metadata": {
        "colab": {
          "base_uri": "https://localhost:8080/"
        },
        "id": "9cAfXqV_LZzg",
        "outputId": "f019b39d-ca7d-488a-aa00-fd40f4a40e32"
      },
      "execution_count": 4,
      "outputs": [
        {
          "output_type": "stream",
          "name": "stdout",
          "text": [
            "Nhập tọa độ của đỉnh 1 (x1 y1): 0 0\n",
            "Nhập tọa độ của đỉnh 2 (x2 y2): 3 0\n",
            "Nhập tọa độ của đỉnh 3 (x3 y3): 0 4\n",
            "Diện tích tam giác có đỉnh tại (0.0, 0.0), (3.0, 0.0), và (0.0, 4.0) là: 6.0\n"
          ]
        }
      ]
    }
  ]
}