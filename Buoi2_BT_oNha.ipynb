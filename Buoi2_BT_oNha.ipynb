{
  "nbformat": 4,
  "nbformat_minor": 0,
  "metadata": {
    "colab": {
      "provenance": [],
      "authorship_tag": "ABX9TyMaOf2qRk5gY2ILtWtrcp0e",
      "include_colab_link": true
    },
    "kernelspec": {
      "name": "python3",
      "display_name": "Python 3"
    },
    "language_info": {
      "name": "python"
    }
  },
  "cells": [
    {
      "cell_type": "markdown",
      "metadata": {
        "id": "view-in-github",
        "colab_type": "text"
      },
      "source": [
        "<a href=\"https://colab.research.google.com/github/Tiepbn/Data-Aaalytics-with-python/blob/inClass/Buoi2_BT_oNha.ipynb\" target=\"_parent\"><img src=\"https://colab.research.google.com/assets/colab-badge.svg\" alt=\"Open In Colab\"/></a>"
      ]
    },
    {
      "cell_type": "code",
      "source": [
        "#bài 1\n",
        "my_set = set(range(100))\n",
        "\n",
        "print(\"Các phần tử trong tập hợp:\")\n",
        "for element in my_set:\n",
        "    print(element, end=\",\")\n"
      ],
      "metadata": {
        "colab": {
          "base_uri": "https://localhost:8080/"
        },
        "id": "xXo_5ybocjvc",
        "outputId": "f6848afc-527c-4d0b-da97-74caeaec715a"
      },
      "execution_count": 12,
      "outputs": [
        {
          "output_type": "stream",
          "name": "stdout",
          "text": [
            "Các phần tử trong tập hợp:\n",
            "0,1,2,3,4,5,6,7,8,9,10,11,12,13,14,15,16,17,18,19,20,21,22,23,24,25,26,27,28,29,30,31,32,33,34,35,36,37,38,39,40,41,42,43,44,45,46,47,48,49,50,51,52,53,54,55,56,57,58,59,60,61,62,63,64,65,66,67,68,69,70,71,72,73,74,75,76,77,78,79,80,81,82,83,84,85,86,87,88,89,90,91,92,93,94,95,96,97,98,99,"
          ]
        }
      ]
    },
    {
      "cell_type": "code",
      "source": [
        "#bài 2\n",
        "# Tạo tập hợp chứa các số nguyên lẻ từ 1 đến 199\n",
        "odd_numbers_set = set(range(1, 200, 2))\n",
        "\n",
        "print(\"Các số nguyên lẻ trong khoảng từ 1 đến 199:\")\n",
        "for number in odd_numbers_set:\n",
        "    print(number)\n"
      ],
      "metadata": {
        "colab": {
          "base_uri": "https://localhost:8080/"
        },
        "id": "i7bIWNkKcr30",
        "outputId": "faadafdb-50dc-4a52-a18b-41e6dd599c2f"
      },
      "execution_count": 13,
      "outputs": [
        {
          "output_type": "stream",
          "name": "stdout",
          "text": [
            "Các số nguyên lẻ trong khoảng từ 1 đến 199:\n",
            "1\n",
            "3\n",
            "5\n",
            "7\n",
            "9\n",
            "11\n",
            "13\n",
            "15\n",
            "17\n",
            "19\n",
            "21\n",
            "23\n",
            "25\n",
            "27\n",
            "29\n",
            "31\n",
            "33\n",
            "35\n",
            "37\n",
            "39\n",
            "41\n",
            "43\n",
            "45\n",
            "47\n",
            "49\n",
            "51\n",
            "53\n",
            "55\n",
            "57\n",
            "59\n",
            "61\n",
            "63\n",
            "65\n",
            "67\n",
            "69\n",
            "71\n",
            "73\n",
            "75\n",
            "77\n",
            "79\n",
            "81\n",
            "83\n",
            "85\n",
            "87\n",
            "89\n",
            "91\n",
            "93\n",
            "95\n",
            "97\n",
            "99\n",
            "101\n",
            "103\n",
            "105\n",
            "107\n",
            "109\n",
            "111\n",
            "113\n",
            "115\n",
            "117\n",
            "119\n",
            "121\n",
            "123\n",
            "125\n",
            "127\n",
            "129\n",
            "131\n",
            "133\n",
            "135\n",
            "137\n",
            "139\n",
            "141\n",
            "143\n",
            "145\n",
            "147\n",
            "149\n",
            "151\n",
            "153\n",
            "155\n",
            "157\n",
            "159\n",
            "161\n",
            "163\n",
            "165\n",
            "167\n",
            "169\n",
            "171\n",
            "173\n",
            "175\n",
            "177\n",
            "179\n",
            "181\n",
            "183\n",
            "185\n",
            "187\n",
            "189\n",
            "191\n",
            "193\n",
            "195\n",
            "197\n",
            "199\n"
          ]
        }
      ]
    },
    {
      "cell_type": "code",
      "source": [
        "#bài 3\n",
        "user_input = input(\"Nhập các số, cách nhau bởi ký tự trống: \")\n",
        "user_numbers = [int(num) for num in user_input.split()]\n",
        "user_set = set(user_numbers)\n",
        "\n",
        "print(f\"Số phần tử của tập hợp là: {len(user_set)}\")\n",
        "\n",
        "if user_set:\n",
        "    print(f\"Giá trị lớn nhất trong tập hợp là: {max(user_set)}\")\n",
        "    print(f\"Giá trị nhỏ nhất trong tập hợp là: {min(user_set)}\")\n",
        "else:\n",
        "    print(\"Tập hợp rỗng.\")\n"
      ],
      "metadata": {
        "colab": {
          "base_uri": "https://localhost:8080/"
        },
        "id": "LZKhL7pLdHx7",
        "outputId": "17f5d77e-331d-4a8a-c5b7-a5967fc678c1"
      },
      "execution_count": 14,
      "outputs": [
        {
          "output_type": "stream",
          "name": "stdout",
          "text": [
            "Nhập các số, cách nhau bởi ký tự trống: 32 6 23\n",
            "Số phần tử của tập hợp là: 3\n",
            "Giá trị lớn nhất trong tập hợp là: 32\n",
            "Giá trị nhỏ nhất trong tập hợp là: 6\n"
          ]
        }
      ]
    },
    {
      "cell_type": "code",
      "source": [
        "#bài 4\n",
        "students = []\n",
        "\n",
        "while True:\n",
        "    input_line = input(\"Nhập họ tên đầy đủ của sinh viên (hoặc nhấn Enter để kết thúc): \")\n",
        "    if not input_line:\n",
        "        break\n",
        "\n",
        "    students.append(input_line)\n",
        "\n",
        "print(\"Các họ và tên của sinh viên trong lớp:\")\n",
        "for student in students:\n",
        "    print(student)\n"
      ],
      "metadata": {
        "colab": {
          "base_uri": "https://localhost:8080/"
        },
        "id": "um5DJAYtdPO_",
        "outputId": "36525667-b45d-4f6f-f721-d6eb89f4e8fb"
      },
      "execution_count": 15,
      "outputs": [
        {
          "output_type": "stream",
          "name": "stdout",
          "text": [
            "Nhập họ tên đầy đủ của sinh viên (hoặc nhấn Enter để kết thúc): Trịnh Huy Tiệp\n",
            "Nhập họ tên đầy đủ của sinh viên (hoặc nhấn Enter để kết thúc): Phạm Hoàng Anh\n",
            "Nhập họ tên đầy đủ của sinh viên (hoặc nhấn Enter để kết thúc): \n",
            "Các họ và tên của sinh viên trong lớp:\n",
            "Trịnh Huy Tiệp\n",
            "Phạm Hoàng Anh\n"
          ]
        }
      ]
    },
    {
      "cell_type": "code",
      "source": [
        "#bài 5\n",
        "N = int(input(\"Nhập số nguyên N: \"))\n",
        "divisors_set = {d for d in range(1, N + 1) if N % d == 0}\n",
        "print(f\"Các ước số dương của {N} là:\")\n",
        "print(divisors_set)\n"
      ],
      "metadata": {
        "colab": {
          "base_uri": "https://localhost:8080/"
        },
        "id": "NKTyHzCnd962",
        "outputId": "a6c0be05-43ad-43da-91fc-6a862dd66f92"
      },
      "execution_count": 16,
      "outputs": [
        {
          "output_type": "stream",
          "name": "stdout",
          "text": [
            "Nhập số nguyên N: 4\n",
            "Các ước số dương của 4 là:\n",
            "{1, 2, 4}\n"
          ]
        }
      ]
    },
    {
      "cell_type": "code",
      "source": [
        "#bài 6\n",
        "a = int(input(\"Nhập số nguyên a: \"))\n",
        "b = int(input(\"Nhập số nguyên b: \"))\n",
        "\n",
        "common_divisors_set = {d for d in range(1, min(a, b) + 1) if a % d == 0 and b % d == 0}\n",
        "\n",
        "print(f\"Các ước số chung của {a} và {b} là:\")\n",
        "print(common_divisors_set)\n"
      ],
      "metadata": {
        "colab": {
          "base_uri": "https://localhost:8080/"
        },
        "id": "bYQyjFuGeQCQ",
        "outputId": "acf0ef2e-e849-41bc-a436-7d801af569f4"
      },
      "execution_count": 17,
      "outputs": [
        {
          "output_type": "stream",
          "name": "stdout",
          "text": [
            "Nhập số nguyên a: 5\n",
            "Nhập số nguyên b: 60\n",
            "Các ước số chung của 5 và 60 là:\n",
            "{1, 5}\n"
          ]
        }
      ]
    },
    {
      "cell_type": "code",
      "source": [
        "#bài 7\n",
        "input_sequence = input(\"Nhập dãy số nguyên, ngăn cách nhau bởi dấu chấm phẩy: \")\n",
        "\n",
        "# Chuyển chuỗi thành danh sách các số nguyên\n",
        "numbers = list(map(int, input_sequence.split(',')))\n",
        "\n",
        "# Tạo tập hợp để lưu trữ các số khác nhau\n",
        "unique_numbers_set = set(numbers)\n",
        "\n",
        "# Đếm số lượng số khác nhau\n",
        "unique_numbers_count = len(unique_numbers_set)\n",
        "\n",
        "print(f\"Số lượng số nguyên khác nhau trong dãy là: {unique_numbers_count}\")\n"
      ],
      "metadata": {
        "colab": {
          "base_uri": "https://localhost:8080/"
        },
        "id": "OrX_9ribeilC",
        "outputId": "2e440450-3914-4eb5-a33e-5281f0cff3d9"
      },
      "execution_count": 18,
      "outputs": [
        {
          "output_type": "stream",
          "name": "stdout",
          "text": [
            "Nhập dãy số nguyên, ngăn cách nhau bởi dấu chấm phẩy: 23,6,3,6\n",
            "Số lượng số nguyên khác nhau trong dãy là: 3\n"
          ]
        }
      ]
    },
    {
      "cell_type": "code",
      "source": [
        "#bài 8\n",
        "def check_winning_ticket(player_numbers, special_number, winning_numbers):\n",
        "    matching_numbers = set(player_numbers) & set(winning_numbers)\n",
        "    if len(matching_numbers) >= 5 and special_number in set(winning_numbers):\n",
        "        return True\n",
        "    return False\n",
        "\n",
        "N = int(input(\"Nhập số lượng người chơi: \"))\n",
        "\n",
        "players_tickets = []\n",
        "for i in range(N):\n",
        "    player_ticket = list(map(int, input(f\"Nhập bộ số thứ {i + 1} (6 số, cách nhau bởi dấu cách): \").split()))\n",
        "    players_tickets.append(player_ticket)\n",
        "\n",
        "winning_special_numbers = list(map(int, input(\"Nhập 6 số của giải đặc biệt: \").split()))\n",
        "\n",
        "print(\"Các bộ số của người chơi thắng cuộc:\")\n",
        "for i, player_ticket in enumerate(players_tickets, 1):\n",
        "    if check_winning_ticket(player_ticket, winning_special_numbers, player_ticket):\n",
        "        print(f\"Người chơi {i}: {player_ticket}\")\n",
        "\n"
      ],
      "metadata": {
        "colab": {
          "base_uri": "https://localhost:8080/",
          "height": 474
        },
        "id": "9_oY3TZVe3Su",
        "outputId": "7656c7b6-36bd-42fd-8bb1-3d419b27392e"
      },
      "execution_count": 20,
      "outputs": [
        {
          "output_type": "stream",
          "name": "stdout",
          "text": [
            "Nhập số lượng người chơi: 2\n",
            "Nhập bộ số thứ 1 (6 số, cách nhau bởi dấu cách): 1 5 2 5 7 4\n",
            "Nhập bộ số thứ 2 (6 số, cách nhau bởi dấu cách): 1 4 8 4 5 6\n",
            "Nhập 6 số của giải đặc biệt: 1 5 7 4 2 4\n",
            "Các bộ số của người chơi thắng cuộc:\n"
          ]
        },
        {
          "output_type": "error",
          "ename": "TypeError",
          "evalue": "unhashable type: 'list'",
          "traceback": [
            "\u001b[0;31m---------------------------------------------------------------------------\u001b[0m",
            "\u001b[0;31mTypeError\u001b[0m                                 Traceback (most recent call last)",
            "\u001b[0;32m<ipython-input-20-b437fa6e7183>\u001b[0m in \u001b[0;36m<cell line: 18>\u001b[0;34m()\u001b[0m\n\u001b[1;32m     17\u001b[0m \u001b[0mprint\u001b[0m\u001b[0;34m(\u001b[0m\u001b[0;34m\"Các bộ số của người chơi thắng cuộc:\"\u001b[0m\u001b[0;34m)\u001b[0m\u001b[0;34m\u001b[0m\u001b[0;34m\u001b[0m\u001b[0m\n\u001b[1;32m     18\u001b[0m \u001b[0;32mfor\u001b[0m \u001b[0mi\u001b[0m\u001b[0;34m,\u001b[0m \u001b[0mplayer_ticket\u001b[0m \u001b[0;32min\u001b[0m \u001b[0menumerate\u001b[0m\u001b[0;34m(\u001b[0m\u001b[0mplayers_tickets\u001b[0m\u001b[0;34m,\u001b[0m \u001b[0;36m1\u001b[0m\u001b[0;34m)\u001b[0m\u001b[0;34m:\u001b[0m\u001b[0;34m\u001b[0m\u001b[0;34m\u001b[0m\u001b[0m\n\u001b[0;32m---> 19\u001b[0;31m     \u001b[0;32mif\u001b[0m \u001b[0mcheck_winning_ticket\u001b[0m\u001b[0;34m(\u001b[0m\u001b[0mplayer_ticket\u001b[0m\u001b[0;34m,\u001b[0m \u001b[0mwinning_special_numbers\u001b[0m\u001b[0;34m,\u001b[0m \u001b[0mplayer_ticket\u001b[0m\u001b[0;34m)\u001b[0m\u001b[0;34m:\u001b[0m\u001b[0;34m\u001b[0m\u001b[0;34m\u001b[0m\u001b[0m\n\u001b[0m\u001b[1;32m     20\u001b[0m         \u001b[0mprint\u001b[0m\u001b[0;34m(\u001b[0m\u001b[0;34mf\"Người chơi {i}: {player_ticket}\"\u001b[0m\u001b[0;34m)\u001b[0m\u001b[0;34m\u001b[0m\u001b[0;34m\u001b[0m\u001b[0m\n\u001b[1;32m     21\u001b[0m \u001b[0;34m\u001b[0m\u001b[0m\n",
            "\u001b[0;32m<ipython-input-20-b437fa6e7183>\u001b[0m in \u001b[0;36mcheck_winning_ticket\u001b[0;34m(player_numbers, special_number, winning_numbers)\u001b[0m\n\u001b[1;32m      2\u001b[0m \u001b[0;32mdef\u001b[0m \u001b[0mcheck_winning_ticket\u001b[0m\u001b[0;34m(\u001b[0m\u001b[0mplayer_numbers\u001b[0m\u001b[0;34m,\u001b[0m \u001b[0mspecial_number\u001b[0m\u001b[0;34m,\u001b[0m \u001b[0mwinning_numbers\u001b[0m\u001b[0;34m)\u001b[0m\u001b[0;34m:\u001b[0m\u001b[0;34m\u001b[0m\u001b[0;34m\u001b[0m\u001b[0m\n\u001b[1;32m      3\u001b[0m     \u001b[0mmatching_numbers\u001b[0m \u001b[0;34m=\u001b[0m \u001b[0mset\u001b[0m\u001b[0;34m(\u001b[0m\u001b[0mplayer_numbers\u001b[0m\u001b[0;34m)\u001b[0m \u001b[0;34m&\u001b[0m \u001b[0mset\u001b[0m\u001b[0;34m(\u001b[0m\u001b[0mwinning_numbers\u001b[0m\u001b[0;34m)\u001b[0m\u001b[0;34m\u001b[0m\u001b[0;34m\u001b[0m\u001b[0m\n\u001b[0;32m----> 4\u001b[0;31m     \u001b[0;32mif\u001b[0m \u001b[0mlen\u001b[0m\u001b[0;34m(\u001b[0m\u001b[0mmatching_numbers\u001b[0m\u001b[0;34m)\u001b[0m \u001b[0;34m>=\u001b[0m \u001b[0;36m5\u001b[0m \u001b[0;32mand\u001b[0m \u001b[0mspecial_number\u001b[0m \u001b[0;32min\u001b[0m \u001b[0mset\u001b[0m\u001b[0;34m(\u001b[0m\u001b[0mwinning_numbers\u001b[0m\u001b[0;34m)\u001b[0m\u001b[0;34m:\u001b[0m\u001b[0;34m\u001b[0m\u001b[0;34m\u001b[0m\u001b[0m\n\u001b[0m\u001b[1;32m      5\u001b[0m         \u001b[0;32mreturn\u001b[0m \u001b[0;32mTrue\u001b[0m\u001b[0;34m\u001b[0m\u001b[0;34m\u001b[0m\u001b[0m\n\u001b[1;32m      6\u001b[0m     \u001b[0;32mreturn\u001b[0m \u001b[0;32mFalse\u001b[0m\u001b[0;34m\u001b[0m\u001b[0;34m\u001b[0m\u001b[0m\n",
            "\u001b[0;31mTypeError\u001b[0m: unhashable type: 'list'"
          ]
        }
      ]
    },
    {
      "cell_type": "code",
      "source": [],
      "metadata": {
        "id": "vhhQS3HFfWk7"
      },
      "execution_count": null,
      "outputs": []
    }
  ]
}