{
  "nbformat": 4,
  "nbformat_minor": 0,
  "metadata": {
    "colab": {
      "provenance": [],
      "authorship_tag": "ABX9TyNsHJM3aPE2dVUbIX20fLg9",
      "include_colab_link": true
    },
    "kernelspec": {
      "name": "python3",
      "display_name": "Python 3"
    },
    "language_info": {
      "name": "python"
    }
  },
  "cells": [
    {
      "cell_type": "markdown",
      "metadata": {
        "id": "view-in-github",
        "colab_type": "text"
      },
      "source": [
        "<a href=\"https://colab.research.google.com/github/Tiepbn/Data-Aaalytics-with-python/blob/inClass/Buoi2_BT_trenLop_02.ipynb\" target=\"_parent\"><img src=\"https://colab.research.google.com/assets/colab-badge.svg\" alt=\"Open In Colab\"/></a>"
      ]
    },
    {
      "cell_type": "code",
      "execution_count": 1,
      "metadata": {
        "colab": {
          "base_uri": "https://localhost:8080/"
        },
        "id": "-jjBYRyPYD6E",
        "outputId": "aae18b89-cd85-4c14-b6e3-62ae26b274ac"
      },
      "outputs": [
        {
          "output_type": "stream",
          "name": "stdout",
          "text": [
            "17 là số nguyên tố.\n"
          ]
        }
      ],
      "source": [
        "#bai1\n",
        "\n",
        "def is_prime(N):\n",
        "    if N <= 1:\n",
        "        return False\n",
        "\n",
        "    for i in range(2, int(N**0.5) + 1):\n",
        "        if N % i == 0:\n",
        "            return False\n",
        "\n",
        "    return True\n",
        "number_to_check = 17\n",
        "if is_prime(number_to_check):\n",
        "    print(f\"{number_to_check} là số nguyên tố.\")\n",
        "else:\n",
        "    print(f\"{number_to_check} không phải là số nguyên tố.\")\n"
      ]
    },
    {
      "cell_type": "code",
      "source": [
        "#bài 2\n",
        "\n",
        "def is_prime(num):\n",
        "    if num <= 1:\n",
        "        return False\n",
        "    for i in range(2, int(num**0.5) + 1):\n",
        "        if num % i == 0:\n",
        "            return False\n",
        "    return True\n",
        "\n",
        "def print_primes_in_range(A, B):\n",
        "    for number in range(A, B + 1):\n",
        "        if is_prime(number):\n",
        "            print(number)\n",
        "\n",
        "A = int(input(\"Nhập số A: \"))\n",
        "B = int(input(\"Nhập số B: \"))\n",
        "\n",
        "print(f\"Các số nguyên tố trong khoảng từ {A} đến {B} là:\")\n",
        "print_primes_in_range(A, B)\n"
      ],
      "metadata": {
        "colab": {
          "base_uri": "https://localhost:8080/"
        },
        "id": "vcegC5TEY2FP",
        "outputId": "e3b39d63-d8ef-41f1-e9d3-cc629a8e3276"
      },
      "execution_count": 3,
      "outputs": [
        {
          "output_type": "stream",
          "name": "stdout",
          "text": [
            "Nhập số A: 3\n",
            "Nhập số B: 9\n",
            "Các số nguyên tố trong khoảng từ 3 đến 9 là:\n",
            "3\n",
            "5\n",
            "7\n"
          ]
        }
      ]
    },
    {
      "cell_type": "code",
      "source": [],
      "metadata": {
        "id": "hy3NHLsmY3D0"
      },
      "execution_count": 2,
      "outputs": []
    }
  ]
}