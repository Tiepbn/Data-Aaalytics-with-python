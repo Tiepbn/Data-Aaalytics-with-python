{
  "nbformat": 4,
  "nbformat_minor": 0,
  "metadata": {
    "colab": {
      "provenance": [],
      "authorship_tag": "ABX9TyO7hsvBzgxIwgl9XLf0K6ai",
      "include_colab_link": true
    },
    "kernelspec": {
      "name": "python3",
      "display_name": "Python 3"
    },
    "language_info": {
      "name": "python"
    }
  },
  "cells": [
    {
      "cell_type": "markdown",
      "metadata": {
        "id": "view-in-github",
        "colab_type": "text"
      },
      "source": [
        "<a href=\"https://colab.research.google.com/github/Tiepbn/Data-Aaalytics-with-python/blob/inClass/Buoi2_BT_trenLop_03.ipynb\" target=\"_parent\"><img src=\"https://colab.research.google.com/assets/colab-badge.svg\" alt=\"Open In Colab\"/></a>"
      ]
    },
    {
      "cell_type": "code",
      "source": [
        "#bài 6\n",
        "def count_characters(word_sequence):\n",
        "    # Tạo một từ điển để lưu trữ số lần xuất hiện của mỗi chữ cái\n",
        "    character_count = {}\n",
        "\n",
        "    # Duyệt qua mỗi từ trong dãy từ\n",
        "    for word in word_sequence.split():\n",
        "        # Duyệt qua mỗi ký tự trong từ\n",
        "        for char in word:\n",
        "            # Tăng số lần xuất hiện của chữ cái trong từ điển\n",
        "            character_count[char] = character_count.get(char, 0) + 1\n",
        "\n",
        "    return character_count\n",
        "\n",
        "word_sequence = input(\"Nhập dãy từ: \")\n",
        "\n",
        "result = count_characters(word_sequence)\n",
        "print(\"Thống kê số lần xuất hiện của mỗi chữ cái:\")\n",
        "for char, count in result.items():\n",
        "    print(f\"{char}: {count} lần\")\n",
        "\n"
      ],
      "metadata": {
        "colab": {
          "base_uri": "https://localhost:8080/"
        },
        "id": "hy3NHLsmY3D0",
        "outputId": "52091f41-eae7-4c52-c0a6-78ff2a970544"
      },
      "execution_count": 6,
      "outputs": [
        {
          "output_type": "stream",
          "name": "stdout",
          "text": [
            "Nhập dãy từ: df e ge df e br gr g \n",
            "Thống kê số lần xuất hiện của mỗi chữ cái:\n",
            "d: 2 lần\n",
            "f: 2 lần\n",
            "e: 3 lần\n",
            "g: 3 lần\n",
            "b: 1 lần\n",
            "r: 2 lần\n"
          ]
        }
      ]
    },
    {
      "cell_type": "code",
      "source": [
        "#bài 7\n",
        "def remove_digits_to_max(S, N):\n",
        "    # Chuyển chuỗi chữ số thành danh sách ký tự để dễ xử lý\n",
        "    digits = list(S)\n",
        "\n",
        "    # Sắp xếp danh sách giảm dần\n",
        "    digits.sort(reverse=True)\n",
        "\n",
        "    # Chỉ xóa N ký tự để có số lớn nhất\n",
        "    for i in range(N):\n",
        "        digits.pop()\n",
        "\n",
        "    result = int(''.join(digits))\n",
        "\n",
        "    return result\n",
        "\n",
        "S = input(\"Nhập chuỗi chữ số S: \")\n",
        "N = int(input(\"Nhập số nguyên N: \"))\n",
        "\n",
        "result = remove_digits_to_max(S, N)\n",
        "print(f\"Số lớn nhất sau khi xóa {N} ký tự: {result}\")\n"
      ],
      "metadata": {
        "colab": {
          "base_uri": "https://localhost:8080/"
        },
        "id": "ghpIQ9OAa9nk",
        "outputId": "c154f86d-aa0a-4d50-b290-015e2f0a70de"
      },
      "execution_count": 8,
      "outputs": [
        {
          "output_type": "stream",
          "name": "stdout",
          "text": [
            "Nhập chuỗi chữ số S: 246\n",
            "Nhập số nguyên N: 2\n",
            "Số lớn nhất sau khi xóa 2 ký tự: 6\n"
          ]
        }
      ]
    },
    {
      "cell_type": "code",
      "source": [
        "#bài 9\n",
        "def is_palindrome(S):\n",
        "    # Chuyển chuỗi thành chữ thường và loại bỏ khoảng trắng\n",
        "    S = S.lower().replace(\" \", \"\")\n",
        "\n",
        "    # So sánh chuỗi với chuỗi nghịch đảo của nó\n",
        "    return S == S[::-1]\n",
        "\n",
        "S = input(\"Nhập chuỗi S: \")\n",
        "\n",
        "if is_palindrome(S):\n",
        "    print(f\"{S} là chuỗi đối xứng.\")\n",
        "else:\n",
        "    print(f\"{S} không phải là chuỗi đối xứng.\")\n"
      ],
      "metadata": {
        "colab": {
          "base_uri": "https://localhost:8080/"
        },
        "id": "V3L_a8YzbVNr",
        "outputId": "a9b5ee8d-2945-4647-bcc6-f091b3f1c35c"
      },
      "execution_count": 9,
      "outputs": [
        {
          "output_type": "stream",
          "name": "stdout",
          "text": [
            "Nhập chuỗi S: asdffdsa\n",
            "asdffdsa là chuỗi đối xứng.\n"
          ]
        }
      ]
    }
  ]
}