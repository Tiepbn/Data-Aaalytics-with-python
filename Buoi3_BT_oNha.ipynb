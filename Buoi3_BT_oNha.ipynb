{
  "nbformat": 4,
  "nbformat_minor": 0,
  "metadata": {
    "colab": {
      "provenance": [],
      "authorship_tag": "ABX9TyNMhZoDxiL4+YmGuy6x+kR8",
      "include_colab_link": true
    },
    "kernelspec": {
      "name": "python3",
      "display_name": "Python 3"
    },
    "language_info": {
      "name": "python"
    }
  },
  "cells": [
    {
      "cell_type": "markdown",
      "metadata": {
        "id": "view-in-github",
        "colab_type": "text"
      },
      "source": [
        "<a href=\"https://colab.research.google.com/github/Tiepbn/Data-Aaalytics-with-python/blob/inClass/Buoi3_BT_oNha.ipynb\" target=\"_parent\"><img src=\"https://colab.research.google.com/assets/colab-badge.svg\" alt=\"Open In Colab\"/></a>"
      ]
    },
    {
      "cell_type": "code",
      "source": [
        "\n",
        "# Nhập danh sách mã nhân viên của cả 3 phòng từ bàn phím\n",
        "employee_list = input(\"Nhập danh sách mã nhân viên của cả 3 phòng, cách nhau bởi dấu phẩy: \")\n",
        "\n",
        "# Tách chuỗi thành danh sách mã nhân viên\n",
        "employee_ids = [int(employee_id) for employee_id in employee_list.split(',')]\n",
        "\n",
        "\n"
      ],
      "metadata": {
        "colab": {
          "base_uri": "https://localhost:8080/"
        },
        "id": "hxwr94_AgOE8",
        "outputId": "2a0a4d96-dd03-4930-ccec-14e88b52127b"
      },
      "execution_count": 34,
      "outputs": [
        {
          "name": "stdout",
          "output_type": "stream",
          "text": [
            "Nhập danh sách mã nhân viên của cả 3 phòng, cách nhau bởi dấu phẩy: 1,2,3,4,5,6\n"
          ]
        }
      ]
    },
    {
      "cell_type": "code",
      "source": [
        "# Tính số lượng nhân viên của cả 3 phòng\n",
        "total_employees = len(employee_ids)\n",
        "\n",
        "# In ra màn hình số lượng nhân viên của cả 3 phòng\n",
        "print(f\"Tổng số nhân viên của cả 3 phòng là: {total_employees}\")\n",
        "\n"
      ],
      "metadata": {
        "colab": {
          "base_uri": "https://localhost:8080/"
        },
        "id": "2zXx1WK_gOP3",
        "outputId": "25cee09e-8b10-4a91-a29d-6dfe2295c7ae"
      },
      "execution_count": 35,
      "outputs": [
        {
          "output_type": "stream",
          "name": "stdout",
          "text": [
            "Tổng số nhân viên của cả 3 phòng là: 6\n"
          ]
        }
      ]
    },
    {
      "cell_type": "code",
      "source": [
        "\n",
        "# In ra màn hình danh sách mã nhân viên thuộc cả 3 phòng\n",
        "print(\"Danh sách mã nhân viên của cả 3 phòng:\")\n",
        "for employee_id in employee_ids:\n",
        "    print(employee_id)\n"
      ],
      "metadata": {
        "colab": {
          "base_uri": "https://localhost:8080/"
        },
        "id": "ZukYBK5AhBBo",
        "outputId": "21af7d34-8721-4a87-a3e0-292f68c4f824"
      },
      "execution_count": 36,
      "outputs": [
        {
          "output_type": "stream",
          "name": "stdout",
          "text": [
            "Danh sách mã nhân viên của cả 3 phòng:\n",
            "1\n",
            "2\n",
            "3\n",
            "4\n",
            "5\n",
            "6\n"
          ]
        }
      ]
    },
    {
      "cell_type": "code",
      "source": [],
      "metadata": {
        "id": "adpJKRIOkUMh"
      },
      "execution_count": null,
      "outputs": []
    }
  ]
}