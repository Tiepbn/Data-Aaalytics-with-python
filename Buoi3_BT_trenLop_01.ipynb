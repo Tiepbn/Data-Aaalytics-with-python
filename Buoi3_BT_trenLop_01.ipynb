{
  "nbformat": 4,
  "nbformat_minor": 0,
  "metadata": {
    "colab": {
      "provenance": [],
      "authorship_tag": "ABX9TyOm8pOQ37W7W8ARPLmZxH8/",
      "include_colab_link": true
    },
    "kernelspec": {
      "name": "python3",
      "display_name": "Python 3"
    },
    "language_info": {
      "name": "python"
    }
  },
  "cells": [
    {
      "cell_type": "markdown",
      "metadata": {
        "id": "view-in-github",
        "colab_type": "text"
      },
      "source": [
        "<a href=\"https://colab.research.google.com/github/Tiepbn/Data-Aaalytics-with-python/blob/inClass/Buoi3_BT_trenLop_01.ipynb\" target=\"_parent\"><img src=\"https://colab.research.google.com/assets/colab-badge.svg\" alt=\"Open In Colab\"/></a>"
      ]
    },
    {
      "cell_type": "code",
      "source": [
        "#bài 1\n",
        "input_string = input(\"Nhập các từ tiếng Anh, cách nhau bởi dấu cách: \")\n",
        "\n",
        "# Tách chuỗi thành danh sách các từ\n",
        "words_list = input_string.split()\n",
        "\n",
        "# Sắp xếp danh sách các từ theo thứ tự từ điển\n",
        "sorted_words_list = sorted(words_list)\n",
        "\n",
        "# In ra màn hình các từ theo thứ tự từ điển\n",
        "print(\"Các từ theo thứ tự từ điển:\")\n",
        "for word in sorted_words_list:\n",
        "    print(word)\n",
        "\n"
      ],
      "metadata": {
        "colab": {
          "base_uri": "https://localhost:8080/"
        },
        "id": "hxwr94_AgOE8",
        "outputId": "419660bc-3918-44ce-b845-d5015720d6bb"
      },
      "execution_count": 23,
      "outputs": [
        {
          "output_type": "stream",
          "name": "stdout",
          "text": [
            "Nhập các từ tiếng Anh, cách nhau bởi dấu cách: he is good\n",
            "Các từ theo thứ tự từ điển:\n",
            "good\n",
            "he\n",
            "is\n"
          ]
        }
      ]
    },
    {
      "cell_type": "code",
      "source": [
        "#bài 2\n",
        "binary_string = input(\"Nhập chuỗi các số nhị phân, cách nhau bởi dấu phẩy: \")\n",
        "\n",
        "# Tách chuỗi thành danh sách các số nhị phân\n",
        "binary_numbers = binary_string.split(',')\n",
        "\n",
        "# In ra màn hình các số nhị phân đã nhập\n",
        "print(\"Các số nhị phân đã nhập:\")\n",
        "for binary_number in binary_numbers:\n",
        "    print(binary_number)\n",
        "\n"
      ],
      "metadata": {
        "colab": {
          "base_uri": "https://localhost:8080/"
        },
        "id": "2zXx1WK_gOP3",
        "outputId": "b589c398-e3f5-4a97-f64c-30616d961af3"
      },
      "execution_count": 24,
      "outputs": [
        {
          "output_type": "stream",
          "name": "stdout",
          "text": [
            "Nhập chuỗi các số nhị phân, cách nhau bởi dấu phẩy: 10101 0101 1010\n",
            "Các số nhị phân đã nhập:\n",
            "10101 0101 1010\n"
          ]
        }
      ]
    },
    {
      "cell_type": "code",
      "source": [],
      "metadata": {
        "id": "ZukYBK5AhBBo"
      },
      "execution_count": null,
      "outputs": []
    }
  ]
}