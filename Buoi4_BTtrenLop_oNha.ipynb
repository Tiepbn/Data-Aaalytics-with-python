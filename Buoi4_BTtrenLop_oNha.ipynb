{
  "nbformat": 4,
  "nbformat_minor": 0,
  "metadata": {
    "colab": {
      "provenance": [],
      "authorship_tag": "ABX9TyPoXxj2VNqnvQWTWKqW5jp/",
      "include_colab_link": true
    },
    "kernelspec": {
      "name": "python3",
      "display_name": "Python 3"
    },
    "language_info": {
      "name": "python"
    }
  },
  "cells": [
    {
      "cell_type": "markdown",
      "metadata": {
        "id": "view-in-github",
        "colab_type": "text"
      },
      "source": [
        "<a href=\"https://colab.research.google.com/github/Tiepbn/Data-Aaalytics-with-python/blob/inClass/Buoi4_BTtrenLop_oNha.ipynb\" target=\"_parent\"><img src=\"https://colab.research.google.com/assets/colab-badge.svg\" alt=\"Open In Colab\"/></a>"
      ]
    },
    {
      "cell_type": "code",
      "source": [
        "#bài 1\n",
        "try:\n",
        "    # Đọc nội dung file\n",
        "    with open(\"/content/11. Memorable events - Homework - Track 1.txt\", 'r') as file:\n",
        "        # Đọc 5 dòng đầu tiên\n",
        "        lines = file.readlines()\n",
        "        for line in lines[:5]:\n",
        "            print(line.strip())\n",
        "\n",
        "except FileNotFoundError:\n",
        "    print(f\"File  không tồn tại.\")\n",
        "\n",
        "except Exception as e:\n",
        "    print(f\"Có lỗi xảy ra: {e}\")"
      ],
      "metadata": {
        "colab": {
          "base_uri": "https://localhost:8080/"
        },
        "id": "adpJKRIOkUMh",
        "outputId": "c318dd77-eed0-4a1a-a7fc-ecf55c0f4390"
      },
      "execution_count": 41,
      "outputs": [
        {
          "output_type": "stream",
          "name": "stdout",
          "text": [
            "3.44.\n",
            "King Edward VIII's wife was American.\n",
            "She wasn't in class yesterday. Was she ill?\n",
            "The Beatles were famous in the 1960s.\n",
            "Where were you last night? You weren't at home.\n"
          ]
        }
      ]
    },
    {
      "cell_type": "code",
      "source": [
        "with open(\"/content/11. Memorable events - Homework - Track 1.txt\", 'r') as file:\n",
        "        # Đọc 5 dòng cuối\n",
        "        lines = file.readlines()\n",
        "        for line in lines[-5:]:\n",
        "            print(line.strip())"
      ],
      "metadata": {
        "colab": {
          "base_uri": "https://localhost:8080/"
        },
        "id": "p84huUF2mgw7",
        "outputId": "2ff2e709-7e7a-4683-93a4-160d056d64cd"
      },
      "execution_count": 45,
      "outputs": [
        {
          "output_type": "stream",
          "name": "stdout",
          "text": [
            "King Edward VIII's wife was American.\n",
            "She wasn't in class yesterday. Was she ill?\n",
            "The Beatles were famous in the 1960s.\n",
            "Where were you last night? You weren't at home.\n",
            "HI! Can you hear me?\n"
          ]
        }
      ]
    },
    {
      "cell_type": "code",
      "source": [
        "with open(\"/content/11. Memorable events - Homework - Track 1.txt\", 'r') as file:\n",
        "  longest_line = max(file, key=len)\n",
        "\n",
        "  # In ra nội dung dòng có độ dài lớn nhất\n",
        "  print(\"Dòng dài nhất của file:\")\n",
        "  print(longest_line.strip())"
      ],
      "metadata": {
        "colab": {
          "base_uri": "https://localhost:8080/"
        },
        "id": "x7Uw1uBmnRoN",
        "outputId": "6f666d66-5796-4e87-fa12-979053c653b5"
      },
      "execution_count": 46,
      "outputs": [
        {
          "output_type": "stream",
          "name": "stdout",
          "text": [
            "Dòng dài nhất của file:\n",
            "Where were you last night? You weren't at home.\n"
          ]
        }
      ]
    },
    {
      "cell_type": "code",
      "source": [
        "with open(\"/content/11. Memorable events - Homework - Track 1.txt\", 'r') as file:\n",
        "        content = file.read()\n",
        "\n",
        "        # Tạo từ điển để thống kê số lần xuất hiện của mỗi chữ cái\n",
        "        char_count = {}\n",
        "        for char in content:\n",
        "            if char.isalpha():\n",
        "                char_count[char] = char_count.get(char, 0) + 1\n",
        "\n",
        "        # In thống kê số lần xuất hiện của mỗi chữ cái\n",
        "        print(\"Thống kê số lần xuất hiện của mỗi chữ cái:\")\n",
        "        for char, count in char_count.items():\n",
        "            print(f\"{char}: {count} lần\")"
      ],
      "metadata": {
        "colab": {
          "base_uri": "https://localhost:8080/"
        },
        "id": "LcaTGV8ioHfP",
        "outputId": "e36abf35-5ef8-4ca1-e165-ef6bd8f0b88b"
      },
      "execution_count": 47,
      "outputs": [
        {
          "output_type": "stream",
          "name": "stdout",
          "text": [
            "Thống kê số lần xuất hiện của mỗi chữ cái:\n",
            "K: 1 lần\n",
            "i: 7 lần\n",
            "n: 8 lần\n",
            "g: 2 lần\n",
            "E: 1 lần\n",
            "d: 3 lần\n",
            "w: 7 lần\n",
            "a: 13 lần\n",
            "r: 8 lần\n",
            "V: 1 lần\n",
            "I: 4 lần\n",
            "s: 12 lần\n",
            "f: 2 lần\n",
            "e: 21 lần\n",
            "A: 1 lần\n",
            "m: 4 lần\n",
            "c: 2 lần\n",
            "S: 1 lần\n",
            "h: 8 lần\n",
            "t: 8 lần\n",
            "l: 5 lần\n",
            "y: 4 lần\n",
            "W: 2 lần\n",
            "T: 1 lần\n",
            "B: 1 lần\n",
            "o: 5 lần\n",
            "u: 4 lần\n",
            "Y: 1 lần\n",
            "H: 1 lần\n",
            "C: 1 lần\n"
          ]
        }
      ]
    },
    {
      "cell_type": "code",
      "source": [
        "with open(\"/content/11. Memorable events - Homework - Track 1.txt\", 'r') as file:\n",
        "        content = file.read()\n",
        "\n",
        "        # Tạo từ điển để thống kê số lần xuất hiện của mỗi chữ cái\n",
        "        char_count = {}\n",
        "        for char in content:\n",
        "            if char.isalpha():\n",
        "                char_count[char] = char_count.get(char, 0) + 1\n",
        "\n",
        "        # Sắp xếp từ điển theo thứ tự giảm dần của số lần xuất hiện\n",
        "        sorted_char_count = dict(sorted(char_count.items(), key=lambda item: item[1], reverse=True))\n",
        "\n",
        "        # In thống kê số lần xuất hiện của mỗi chữ cái theo thứ tự giảm dần\n",
        "        print(\"Thống kê số lần xuất hiện của mỗi chữ cái (theo thứ tự giảm dần):\")\n",
        "        for char, count in sorted_char_count.items():\n",
        "            print(f\"{char}: {count} lần\")"
      ],
      "metadata": {
        "colab": {
          "base_uri": "https://localhost:8080/"
        },
        "id": "JPbZDipzoxmE",
        "outputId": "c7284f7a-c33d-4bfd-d3c4-600a4c5027ef"
      },
      "execution_count": 48,
      "outputs": [
        {
          "output_type": "stream",
          "name": "stdout",
          "text": [
            "Thống kê số lần xuất hiện của mỗi chữ cái (theo thứ tự giảm dần):\n",
            "e: 21 lần\n",
            "a: 13 lần\n",
            "s: 12 lần\n",
            "n: 8 lần\n",
            "r: 8 lần\n",
            "h: 8 lần\n",
            "t: 8 lần\n",
            "i: 7 lần\n",
            "w: 7 lần\n",
            "l: 5 lần\n",
            "o: 5 lần\n",
            "I: 4 lần\n",
            "m: 4 lần\n",
            "y: 4 lần\n",
            "u: 4 lần\n",
            "d: 3 lần\n",
            "g: 2 lần\n",
            "f: 2 lần\n",
            "c: 2 lần\n",
            "W: 2 lần\n",
            "K: 1 lần\n",
            "E: 1 lần\n",
            "V: 1 lần\n",
            "A: 1 lần\n",
            "S: 1 lần\n",
            "T: 1 lần\n",
            "B: 1 lần\n",
            "Y: 1 lần\n",
            "H: 1 lần\n",
            "C: 1 lần\n"
          ]
        }
      ]
    }
  ]
}